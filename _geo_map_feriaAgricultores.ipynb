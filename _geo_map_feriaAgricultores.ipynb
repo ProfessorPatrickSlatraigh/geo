{
  "nbformat": 4,
  "nbformat_minor": 0,
  "metadata": {
    "colab": {
      "provenance": [],
      "include_colab_link": true
    },
    "kernelspec": {
      "name": "python3",
      "display_name": "Python 3"
    },
    "language_info": {
      "name": "python"
    }
  },
  "cells": [
    {
      "cell_type": "markdown",
      "metadata": {
        "id": "view-in-github",
        "colab_type": "text"
      },
      "source": [
        "<a href=\"https://colab.research.google.com/github/ProfessorPatrickSlatraigh/geo/blob/main/_geo_map_feriaAgricultores.ipynb\" target=\"_parent\"><img src=\"https://colab.research.google.com/assets/colab-badge.svg\" alt=\"Open In Colab\"/></a>"
      ]
    },
    {
      "cell_type": "markdown",
      "source": [
        "#CST3512    - Feria Agricultores in Costa Rica    \n",
        "**Maps Examples Using Python and Folium**    \n"
      ],
      "metadata": {
        "id": "98LjHdfzTRHS"
      }
    },
    {
      "cell_type": "markdown",
      "source": [
        "\n",
        "notes: \n",
        "\n",
        "* [**Title**](https://site.com/inndex)   \n",
        "\n"
      ],
      "metadata": {
        "id": "YWZWDKqzNtHA"
      }
    },
    {
      "cell_type": "markdown",
      "metadata": {
        "id": "7PnKgJ7fF1fI"
      },
      "source": [
        "## Install libraries"
      ]
    },
    {
      "cell_type": "code",
      "metadata": {
        "id": "5SRiLON1E2qq"
      },
      "source": [
        "!pip install folium pandas"
      ],
      "execution_count": null,
      "outputs": []
    },
    {
      "cell_type": "code",
      "metadata": {
        "id": "4QJt__yzGDfs"
      },
      "source": [
        "import folium"
      ],
      "execution_count": null,
      "outputs": []
    },
    {
      "cell_type": "markdown",
      "metadata": {
        "id": "RcHVYNpuOcgH"
      },
      "source": [
        "\n",
        "\n",
        "---\n",
        "\n"
      ]
    },
    {
      "cell_type": "markdown",
      "metadata": {
        "id": "yOgCOjktGB2t"
      },
      "source": [
        "## Create a basic map"
      ]
    },
    {
      "cell_type": "markdown",
      "source": [
        "Create a basic map for Downtown Brooklyn, NY USA"
      ],
      "metadata": {
        "id": "Howiqmh0AruA"
      }
    },
    {
      "cell_type": "code",
      "source": [
        "folium.Map(location=[40.6954, -73.9875], zoom_start=15, tiles=\"OpenStreetMap\")"
      ],
      "metadata": {
        "id": "Wx46IiTMAvin"
      },
      "execution_count": null,
      "outputs": []
    },
    {
      "cell_type": "markdown",
      "source": [
        "Create a basic map for San Jose, Costa Rica "
      ],
      "metadata": {
        "id": "O1L54jhXA4Ul"
      }
    },
    {
      "cell_type": "code",
      "metadata": {
        "id": "RupHslpLGGCN"
      },
      "source": [
        "folium.Map(location=[9.93550579083952, -84.09906512374724], zoom_start=13)"
      ],
      "execution_count": null,
      "outputs": []
    },
    {
      "cell_type": "markdown",
      "source": [
        "\n",
        "\n",
        "---\n",
        "\n"
      ],
      "metadata": {
        "id": "HM1XuUYMPgdR"
      }
    },
    {
      "cell_type": "markdown",
      "source": [
        "Some available icon sources:     \n",
        "\n",
        "  - [GlyphIcons](https://getbootstrap.com/docs/3.3/components/) - easiest    \n",
        "  \n",
        "  - [FontAwesome Icon Gallery](https://fontawesome.com/icons?d=gallery)        "
      ],
      "metadata": {
        "id": "-SIfo2Cc3ehS"
      }
    },
    {
      "cell_type": "markdown",
      "metadata": {
        "id": "VoT_ujtXIUll"
      },
      "source": [
        "## Map with a marker - CityTech, Brooklyn NY USA "
      ]
    },
    {
      "cell_type": "code",
      "source": [
        "# try it for CityTech in Brooklyn\n",
        "\n",
        "bk_map = folium.Map(location=[40.6954, -73.9875], zoom_start=15, tiles=\"OpenStreetMap\")\n",
        "\n",
        "tooltip = \"Click Here For More Info\"   \n",
        "\n",
        "citytech_marker = folium.Marker(\n",
        "    location=[40.6954, -73.9875],\n",
        "    icon=folium.Icon(icon=\"book\"),\n",
        "    popup=\"<strong>CityTech</strong>\",\n",
        "    tooltip=tooltip,\n",
        "    )\n",
        "\n",
        "citytech_marker.add_to(bk_map)\n",
        "\n",
        "bk_map"
      ],
      "metadata": {
        "id": "YqKpQinvtkzQ"
      },
      "execution_count": null,
      "outputs": []
    },
    {
      "cell_type": "markdown",
      "source": [
        "### Map with an  iFrame marker - Plaza Viquez feria, San Jose, Costa Rica "
      ],
      "metadata": {
        "id": "UDFrMvfoPlyE"
      }
    },
    {
      "cell_type": "code",
      "source": [
        "# create the base map\n",
        "feria_map = folium.Map(location=[9.93550579083952, -84.09906512374724], tiles=\"OpenStreetMap\", zoom_start=13)\n",
        "\n",
        "# assign text to `tooltip_str` for use as tooltip\n",
        "tooltip_str = \"Click Here For More Info\"    \n",
        "\n",
        "### LOCATION SPECIFIC INFORMATION FOR MARKERS \n",
        "\n",
        "## PLAZA VIQUEZ \n",
        "\n",
        "# basic HTML for Plaza Viquez info\n",
        "viquez_htm = '''<strong><u>Plaza Viquez</u></strong><br>\n",
        "<i>Saturdays</i><br>\n",
        "05:00 - 13:00'''    \n",
        "\n",
        "# IFrame for Plaza Viquez popup info on marker\n",
        "viquez_popup_iframe = folium.IFrame(viquez_htm,\n",
        "                       width=250,\n",
        "                       height=75)\n",
        "\n",
        "# HTML for Plaza Viquez popup info on marker (based on IFrame)\n",
        "viquez_popup_htm = folium.Popup(viquez_popup_iframe,\n",
        "                     max_width=100)\n",
        "\n",
        "# create marker for Plaza Viquez\n",
        "viquez_marker = folium.Marker(\n",
        "    location=[9.92520232110662, -84.076688122587],\n",
        "    icon=folium.Icon(icon=\"leaf\"),\n",
        "    popup=viquez_popup_htm,\n",
        "    tooltip=tooltip_str)\n",
        "\n",
        "# add marker to feria_map\n",
        "viquez_marker.add_to(feria_map)\n",
        "\n",
        "# display feria_map \n",
        "feria_map  "
      ],
      "metadata": {
        "id": "AE9LSmZ3IYSq"
      },
      "execution_count": null,
      "outputs": []
    },
    {
      "cell_type": "markdown",
      "source": [
        "### Map with an  iFrame marker - 3 ferias, San Jose, Costa Rica "
      ],
      "metadata": {
        "id": "juyTj0-2F2ht"
      }
    },
    {
      "cell_type": "code",
      "metadata": {
        "id": "AgBE4LLtOeeM"
      },
      "source": [
        "# create the base map\n",
        "feria_map = folium.Map(location=[9.93550579083952, -84.09906512374724], tiles=\"OpenStreetMap\", zoom_start=13)\n",
        "\n",
        "# assign text to `tooltip_str` for use as tooltip\n",
        "tooltip_str = \"Click Here For More Info\"    \n",
        "\n",
        "### LOCATION SPECIFIC INFORMATION FOR MARKERS \n",
        "\n",
        "## PLAZA VIQUEZ \n",
        "\n",
        "# basic HTML for Plaza Viquez info\n",
        "viquez_htm = '''<strong><u>Plaza Viquez</u></strong><br>\n",
        "<i>Saturdays</i><br>\n",
        "05:00 - 13:00'''    \n",
        "\n",
        "# IFrame for Plaza Viquez popup info on marker\n",
        "viquez_popup_iframe = folium.IFrame(viquez_htm,\n",
        "                       width=250,\n",
        "                       height=75)\n",
        "\n",
        "# HTML for Plaza Viquez popup info on marker (based on IFrame)\n",
        "viquez_popup_htm = folium.Popup(viquez_popup_iframe,\n",
        "                     max_width=100)\n",
        "\n",
        "# create marker for Plaza Viquez\n",
        "viquez_marker = folium.Marker(\n",
        "    location=[9.92520232110662, -84.076688122587],\n",
        "    icon=folium.Icon(icon=\"leaf\"),\n",
        "    popup=viquez_popup_htm,\n",
        "    tooltip=tooltip_str)\n",
        "\n",
        "# add marker to feria_map\n",
        "viquez_marker.add_to(feria_map)\n",
        "\n",
        "## ESCAZU CENTRO  \n",
        "\n",
        "# basic HTML for Escazu Centro info\n",
        "escazu_htm = '''<strong><u>Escazu Centro</u></strong><br>\n",
        "<i>Saturdays</i><br>\n",
        "05:00 - 13:00'''    \n",
        "\n",
        "# IFrame for Escazu Centro popup info on marker\n",
        "escazu_popup_iframe = folium.IFrame(escazu_htm,\n",
        "                       width=250,\n",
        "                       height=75)\n",
        "\n",
        "# HTML for Escazu Centro popup info on marker (based on IFrame)\n",
        "escazu_popup_htm = folium.Popup(escazu_popup_iframe,\n",
        "                     max_width=100)\n",
        "\n",
        "# create marker for Escazu Centro\n",
        "escazu_marker = folium.Marker(\n",
        "    location=[9.9195377417559, -84.1400002652879],\n",
        "    icon=folium.Icon(icon=\"leaf\"),\n",
        "    popup=escazu_popup_htm,\n",
        "    tooltip=tooltip_str)\n",
        "\n",
        "# add marker to feria_map\n",
        "escazu_marker.add_to(feria_map)\n",
        "\n",
        "## SANTA ANA \n",
        "\n",
        "# basic HTML for Santa Ana info\n",
        "santana_htm = '''<strong><u>Santa Ana</u></strong><br>\n",
        "<i>Sundays</i><br>\n",
        "05:00 - 13:00'''    \n",
        "\n",
        "# IFrame for Santa Ana popup info on marker\n",
        "santana_popup_iframe = folium.IFrame(santana_htm,\n",
        "                       width=250,\n",
        "                       height=75)\n",
        "\n",
        "# HTML for Plaza Santa Ana popup info on marker (based on IFrame)\n",
        "santana_popup_htm = folium.Popup(santana_popup_iframe,\n",
        "                     max_width=100)\n",
        "\n",
        "# create marker for Santa Ana\n",
        "santana_marker = folium.Marker(\n",
        "    location=[9.93317209316712, -84.1810696624663],\n",
        "    icon=folium.Icon(icon=\"leaf\"),\n",
        "    popup=santana_popup_htm,\n",
        "    tooltip=tooltip_str)\n",
        "\n",
        "# add marker to feria_map\n",
        "santana_marker.add_to(feria_map)\n",
        "\n",
        "\n",
        "\n",
        "# display feria_map \n",
        "feria_map  "
      ],
      "execution_count": null,
      "outputs": []
    },
    {
      "cell_type": "markdown",
      "source": [
        "\n",
        "\n",
        "---\n",
        "\n"
      ],
      "metadata": {
        "id": "yFuaULKYOZQQ"
      }
    }
  ]
}