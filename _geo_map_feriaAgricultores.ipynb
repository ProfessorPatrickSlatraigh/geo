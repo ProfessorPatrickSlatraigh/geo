{
  "nbformat": 4,
  "nbformat_minor": 0,
  "metadata": {
    "colab": {
      "provenance": [],
      "collapsed_sections": [
        "Tb6_zSW46LTI"
      ],
      "include_colab_link": true
    },
    "kernelspec": {
      "name": "python3",
      "display_name": "Python 3"
    },
    "language_info": {
      "name": "python"
    }
  },
  "cells": [
    {
      "cell_type": "markdown",
      "metadata": {
        "id": "view-in-github",
        "colab_type": "text"
      },
      "source": [
        "<a href=\"https://colab.research.google.com/github/ProfessorPatrickSlatraigh/geo/blob/main/_geo_map_feriaAgricultores.ipynb\" target=\"_parent\"><img src=\"https://colab.research.google.com/assets/colab-badge.svg\" alt=\"Open In Colab\"/></a>"
      ]
    },
    {
      "cell_type": "markdown",
      "source": [
        "#CST3512    - Feria Agricultores in Costa Rica    \n",
        "**Maps Examples Using Python and Folium**    \n"
      ],
      "metadata": {
        "id": "98LjHdfzTRHS"
      }
    },
    {
      "cell_type": "markdown",
      "source": [
        "\n",
        "The following articles have additional information on **Folium** maps:     \n",
        "\n",
        "* [**'Your Guide to Folium Markers'** by Dariga Kokenova on *Medium.com*](https://darigak.medium.com/your-guide-to-folium-markers-b9324fc7d65d) -  mapping NYC 2015 vehicle collision data        \n",
        "\n"
      ],
      "metadata": {
        "id": "YWZWDKqzNtHA"
      }
    },
    {
      "cell_type": "markdown",
      "source": [
        "##Housekeeping   "
      ],
      "metadata": {
        "id": "W9jqNxqm4Tqb"
      }
    },
    {
      "cell_type": "markdown",
      "metadata": {
        "id": "7PnKgJ7fF1fI"
      },
      "source": [
        "### Install libraries"
      ]
    },
    {
      "cell_type": "markdown",
      "source": [
        "Import the usual suspects "
      ],
      "metadata": {
        "id": "eBvF0-cf1HJZ"
      }
    },
    {
      "cell_type": "code",
      "source": [
        "import pandas as pd\n",
        "import numpy as np "
      ],
      "metadata": {
        "id": "1P6xBbLn1Jet"
      },
      "execution_count": null,
      "outputs": []
    },
    {
      "cell_type": "markdown",
      "source": [
        "Install and import Folium "
      ],
      "metadata": {
        "id": "sXBw-d6u1Nbr"
      }
    },
    {
      "cell_type": "code",
      "metadata": {
        "id": "5SRiLON1E2qq"
      },
      "source": [
        "!pip install folium pandas"
      ],
      "execution_count": null,
      "outputs": []
    },
    {
      "cell_type": "code",
      "metadata": {
        "id": "4QJt__yzGDfs"
      },
      "source": [
        "import folium"
      ],
      "execution_count": null,
      "outputs": []
    },
    {
      "cell_type": "markdown",
      "source": [
        "##Load dataset(s)    \n"
      ],
      "metadata": {
        "id": "lOQPT1o34WwW"
      }
    },
    {
      "cell_type": "markdown",
      "source": [
        "Read SJO CR feria agricultores from a CSV file on GitHub into a dataframe"
      ],
      "metadata": {
        "id": "OhUJt8T_AiKW"
      }
    },
    {
      "cell_type": "code",
      "source": [
        "# assign URL of source data file to a variable\n",
        "feria_url = r\"https://raw.githubusercontent.com/ProfessorPatrickSlatraigh/geo/main/feriaAgricultores.csv\"\n",
        "\n",
        "# use the variable `location` to read a `.csv` file of data into the dataframe `feria_df`\n",
        "feria_df = pd.read_csv(feria_url, usecols = ['enLabel', 'enName', 'lat', 'lon', 'enDays', 'abierto', 'cerrado'])"
      ],
      "metadata": {
        "id": "6JRw1g1W4aBi"
      },
      "execution_count": null,
      "outputs": []
    },
    {
      "cell_type": "code",
      "source": [
        "feria_df"
      ],
      "metadata": {
        "id": "SQpxmxhL54bf"
      },
      "execution_count": null,
      "outputs": []
    },
    {
      "cell_type": "markdown",
      "source": [
        "Let's make it easier on ourselves and relabel some columns."
      ],
      "metadata": {
        "id": "b0E6W1FgAc38"
      }
    },
    {
      "cell_type": "code",
      "source": [
        "feria_df.rename(columns = {'abierto':'opens', 'cerrado': 'closes', 'enLabel' : 'label', 'enName': 'name', 'enDays': 'days'}, inplace = True)"
      ],
      "metadata": {
        "id": "CsoCdPD9_-OZ"
      },
      "execution_count": null,
      "outputs": []
    },
    {
      "cell_type": "code",
      "source": [
        "feria_df"
      ],
      "metadata": {
        "colab": {
          "base_uri": "https://localhost:8080/",
          "height": 206
        },
        "id": "nmBB8ybsAU9f",
        "outputId": "446ae253-f501-4b23-de8a-33870ad570db"
      },
      "execution_count": null,
      "outputs": [
        {
          "output_type": "execute_result",
          "data": {
            "text/plain": [
              "        lat        lon opens closes            label  \\\n",
              "0  9.925202 -84.076688  5:00  13:30     Plaza Viquez   \n",
              "1  9.933172 -84.181070  5:00  13:00        Santa Ana   \n",
              "2  9.919538 -84.140000  5:00  13:00  Escazu (centro)   \n",
              "3  9.944562 -84.159499  5:00  13:00      Guachipelin   \n",
              "4  9.940290 -84.068155  7:00  12:00         Aranjuez   \n",
              "\n",
              "                                   name      days  \n",
              "0  Feria del agricultor de Plaza Víquez  Saturday  \n",
              "1        Feria Del Agricultor Santa Ana    Sunday  \n",
              "2              Feria de Escazu (centro)  Saturday  \n",
              "3  Feria Agricultur Guachipelin, Escazu    Sunday  \n",
              "4                  Feria Verde Aranjuez    Sunday  "
            ],
            "text/html": [
              "\n",
              "  <div id=\"df-e511bef9-6da1-4779-a93f-0f685bb1b6d0\">\n",
              "    <div class=\"colab-df-container\">\n",
              "      <div>\n",
              "<style scoped>\n",
              "    .dataframe tbody tr th:only-of-type {\n",
              "        vertical-align: middle;\n",
              "    }\n",
              "\n",
              "    .dataframe tbody tr th {\n",
              "        vertical-align: top;\n",
              "    }\n",
              "\n",
              "    .dataframe thead th {\n",
              "        text-align: right;\n",
              "    }\n",
              "</style>\n",
              "<table border=\"1\" class=\"dataframe\">\n",
              "  <thead>\n",
              "    <tr style=\"text-align: right;\">\n",
              "      <th></th>\n",
              "      <th>lat</th>\n",
              "      <th>lon</th>\n",
              "      <th>opens</th>\n",
              "      <th>closes</th>\n",
              "      <th>label</th>\n",
              "      <th>name</th>\n",
              "      <th>days</th>\n",
              "    </tr>\n",
              "  </thead>\n",
              "  <tbody>\n",
              "    <tr>\n",
              "      <th>0</th>\n",
              "      <td>9.925202</td>\n",
              "      <td>-84.076688</td>\n",
              "      <td>5:00</td>\n",
              "      <td>13:30</td>\n",
              "      <td>Plaza Viquez</td>\n",
              "      <td>Feria del agricultor de Plaza Víquez</td>\n",
              "      <td>Saturday</td>\n",
              "    </tr>\n",
              "    <tr>\n",
              "      <th>1</th>\n",
              "      <td>9.933172</td>\n",
              "      <td>-84.181070</td>\n",
              "      <td>5:00</td>\n",
              "      <td>13:00</td>\n",
              "      <td>Santa Ana</td>\n",
              "      <td>Feria Del Agricultor Santa Ana</td>\n",
              "      <td>Sunday</td>\n",
              "    </tr>\n",
              "    <tr>\n",
              "      <th>2</th>\n",
              "      <td>9.919538</td>\n",
              "      <td>-84.140000</td>\n",
              "      <td>5:00</td>\n",
              "      <td>13:00</td>\n",
              "      <td>Escazu (centro)</td>\n",
              "      <td>Feria de Escazu (centro)</td>\n",
              "      <td>Saturday</td>\n",
              "    </tr>\n",
              "    <tr>\n",
              "      <th>3</th>\n",
              "      <td>9.944562</td>\n",
              "      <td>-84.159499</td>\n",
              "      <td>5:00</td>\n",
              "      <td>13:00</td>\n",
              "      <td>Guachipelin</td>\n",
              "      <td>Feria Agricultur Guachipelin, Escazu</td>\n",
              "      <td>Sunday</td>\n",
              "    </tr>\n",
              "    <tr>\n",
              "      <th>4</th>\n",
              "      <td>9.940290</td>\n",
              "      <td>-84.068155</td>\n",
              "      <td>7:00</td>\n",
              "      <td>12:00</td>\n",
              "      <td>Aranjuez</td>\n",
              "      <td>Feria Verde Aranjuez</td>\n",
              "      <td>Sunday</td>\n",
              "    </tr>\n",
              "  </tbody>\n",
              "</table>\n",
              "</div>\n",
              "      <button class=\"colab-df-convert\" onclick=\"convertToInteractive('df-e511bef9-6da1-4779-a93f-0f685bb1b6d0')\"\n",
              "              title=\"Convert this dataframe to an interactive table.\"\n",
              "              style=\"display:none;\">\n",
              "        \n",
              "  <svg xmlns=\"http://www.w3.org/2000/svg\" height=\"24px\"viewBox=\"0 0 24 24\"\n",
              "       width=\"24px\">\n",
              "    <path d=\"M0 0h24v24H0V0z\" fill=\"none\"/>\n",
              "    <path d=\"M18.56 5.44l.94 2.06.94-2.06 2.06-.94-2.06-.94-.94-2.06-.94 2.06-2.06.94zm-11 1L8.5 8.5l.94-2.06 2.06-.94-2.06-.94L8.5 2.5l-.94 2.06-2.06.94zm10 10l.94 2.06.94-2.06 2.06-.94-2.06-.94-.94-2.06-.94 2.06-2.06.94z\"/><path d=\"M17.41 7.96l-1.37-1.37c-.4-.4-.92-.59-1.43-.59-.52 0-1.04.2-1.43.59L10.3 9.45l-7.72 7.72c-.78.78-.78 2.05 0 2.83L4 21.41c.39.39.9.59 1.41.59.51 0 1.02-.2 1.41-.59l7.78-7.78 2.81-2.81c.8-.78.8-2.07 0-2.86zM5.41 20L4 18.59l7.72-7.72 1.47 1.35L5.41 20z\"/>\n",
              "  </svg>\n",
              "      </button>\n",
              "      \n",
              "  <style>\n",
              "    .colab-df-container {\n",
              "      display:flex;\n",
              "      flex-wrap:wrap;\n",
              "      gap: 12px;\n",
              "    }\n",
              "\n",
              "    .colab-df-convert {\n",
              "      background-color: #E8F0FE;\n",
              "      border: none;\n",
              "      border-radius: 50%;\n",
              "      cursor: pointer;\n",
              "      display: none;\n",
              "      fill: #1967D2;\n",
              "      height: 32px;\n",
              "      padding: 0 0 0 0;\n",
              "      width: 32px;\n",
              "    }\n",
              "\n",
              "    .colab-df-convert:hover {\n",
              "      background-color: #E2EBFA;\n",
              "      box-shadow: 0px 1px 2px rgba(60, 64, 67, 0.3), 0px 1px 3px 1px rgba(60, 64, 67, 0.15);\n",
              "      fill: #174EA6;\n",
              "    }\n",
              "\n",
              "    [theme=dark] .colab-df-convert {\n",
              "      background-color: #3B4455;\n",
              "      fill: #D2E3FC;\n",
              "    }\n",
              "\n",
              "    [theme=dark] .colab-df-convert:hover {\n",
              "      background-color: #434B5C;\n",
              "      box-shadow: 0px 1px 3px 1px rgba(0, 0, 0, 0.15);\n",
              "      filter: drop-shadow(0px 1px 2px rgba(0, 0, 0, 0.3));\n",
              "      fill: #FFFFFF;\n",
              "    }\n",
              "  </style>\n",
              "\n",
              "      <script>\n",
              "        const buttonEl =\n",
              "          document.querySelector('#df-e511bef9-6da1-4779-a93f-0f685bb1b6d0 button.colab-df-convert');\n",
              "        buttonEl.style.display =\n",
              "          google.colab.kernel.accessAllowed ? 'block' : 'none';\n",
              "\n",
              "        async function convertToInteractive(key) {\n",
              "          const element = document.querySelector('#df-e511bef9-6da1-4779-a93f-0f685bb1b6d0');\n",
              "          const dataTable =\n",
              "            await google.colab.kernel.invokeFunction('convertToInteractive',\n",
              "                                                     [key], {});\n",
              "          if (!dataTable) return;\n",
              "\n",
              "          const docLinkHtml = 'Like what you see? Visit the ' +\n",
              "            '<a target=\"_blank\" href=https://colab.research.google.com/notebooks/data_table.ipynb>data table notebook</a>'\n",
              "            + ' to learn more about interactive tables.';\n",
              "          element.innerHTML = '';\n",
              "          dataTable['output_type'] = 'display_data';\n",
              "          await google.colab.output.renderOutput(dataTable, element);\n",
              "          const docLink = document.createElement('div');\n",
              "          docLink.innerHTML = docLinkHtml;\n",
              "          element.appendChild(docLink);\n",
              "        }\n",
              "      </script>\n",
              "    </div>\n",
              "  </div>\n",
              "  "
            ]
          },
          "metadata": {},
          "execution_count": 8
        }
      ]
    },
    {
      "cell_type": "markdown",
      "metadata": {
        "id": "RcHVYNpuOcgH"
      },
      "source": [
        "\n",
        "\n",
        "---\n",
        "\n"
      ]
    },
    {
      "cell_type": "markdown",
      "metadata": {
        "id": "yOgCOjktGB2t"
      },
      "source": [
        "## Create a basic map"
      ]
    },
    {
      "cell_type": "markdown",
      "source": [
        "Create a basic map for San Jose, Costa Rica "
      ],
      "metadata": {
        "id": "O1L54jhXA4Ul"
      }
    },
    {
      "cell_type": "code",
      "metadata": {
        "id": "RupHslpLGGCN"
      },
      "source": [
        "folium.Map(location=[9.9355, -84.0990], zoom_start=13)"
      ],
      "execution_count": null,
      "outputs": []
    },
    {
      "cell_type": "markdown",
      "source": [
        "###Base map parameters (arguments) in Folium    "
      ],
      "metadata": {
        "id": "8rPTFKviifXV"
      }
    },
    {
      "cell_type": "markdown",
      "source": [
        "There are a number of `.Map()` parameters (arguments) in Folium, including:   \n",
        "\n",
        " - **location** (tuple or list, default None) – Latitude and Longitude of Map (Northing, Easting).\n",
        "\n",
        " - **width** (pixel int or percentage string (default: '100%')) – Width of the map.    \n",
        "\n",
        " - **height** (pixel int or percentage string (default: '100%')) – Height of the map.    \n",
        "\n",
        " - **tiles** (str, default 'OpenStreetMap') – Map tileset to use. Can choose from a list of built-in tiles, pass a custom URL or pass None to create a map without tiles. For more advanced tile layer options, use the TileLayer class.    \n",
        "\n",
        " - **min_zoom** (int, default 0) – Minimum allowed zoom level for the tile layer that is created.    \n",
        "\n",
        " - **max_zoom** (int, default 18) – Maximum allowed zoom level for the tile layer that is created.    \n",
        "\n",
        " - **zoom_start** (int, default 10) – Initial zoom level for the map.    \n",
        "\n",
        " - **attr** (string, default None) – Map tile attribution; only required if passing custom tile URL.    \n",
        "\n",
        " - **crs** (str, default 'EPSG3857') – Defines coordinate reference systems for projecting geographical points into pixel (screen) coordinates and back. You can use Leaflet’s values : * EPSG3857 : The most common CRS for online maps, used by almost all free and commercial tile providers. Uses Spherical Mercator projection. Set in by default in Map’s crs option. * EPSG4326 : A common CRS among GIS enthusiasts. Uses simple Equirectangular projection. * EPSG3395 : Rarely used by some commercial tile providers. Uses Elliptical Mercator projection. * Simple : A simple CRS that maps longitude and latitude into x and y directly. May be used for maps of flat surfaces (e.g. game maps). Note that the y axis should still be inverted (going from bottom to top).    \n",
        "\n",
        " - **control_scale** (bool, default False) – Whether to add a control scale on the map.    \n",
        "\n",
        " - **prefer_canvas** (bool, default False) – Forces Leaflet to use the Canvas back-end (if available) for vector layers instead of SVG. This can increase  performance considerably in some cases (e.g. many thousands of circle markers on the map).    \n",
        "\n",
        " - **no_touch** (bool, default False) – Forces Leaflet to not use touch events even if it detects them.    \n",
        "\n",
        " - **disable_3d** (bool, default False) – Forces Leaflet to not use hardware-accelerated CSS 3D transforms for positioning (which may cause glitches in some rare environments) even if they’re supported.    \n",
        "\n",
        " - **zoom_control** (bool, default True) – Display zoom controls on the map.    \n",
        "\n",
        " - **kwargs** – [Additional keyword arguments](https://leafletjs.com/reference-1.6.0.html#map) are passed to Leaflets `.Map()` class.     \n",
        "\n",
        "\n",
        "\n"
      ],
      "metadata": {
        "id": "p1wG2clueu1U"
      }
    },
    {
      "cell_type": "markdown",
      "source": [
        "####How to keep from zooming out to *many worlds*    "
      ],
      "metadata": {
        "id": "KHyIffRIen7m"
      }
    },
    {
      "cell_type": "markdown",
      "source": [
        "It may not seem intuitive, but setting the minum zoom level (`min_zoom`) to the integer value of `2` will keep the user from zooming out and seeing multiple instances of the world on one map although there will be some overlap from edge to edge.  The argument takes the form `min_zoom=2) as in the next snippet of code.    \n",
        "\n",
        "*If you want to avoid any redundancy in the map display (no overlap from edge to edge) then use `min_zoom=3` but understand that the user will not be able to zoom out enough to see the entire world at once.*    "
      ],
      "metadata": {
        "id": "6kbToMPfgTcb"
      }
    },
    {
      "cell_type": "code",
      "source": [
        "folium.Map(location=[9.9355, -84.0990], zoom_start=13, min_zoom=2)"
      ],
      "metadata": {
        "id": "5C8jk9s7gtwZ"
      },
      "execution_count": null,
      "outputs": []
    },
    {
      "cell_type": "markdown",
      "source": [
        "####Adding a helpful scale at the bottom/left of the map    "
      ],
      "metadata": {
        "id": "k4fzLVDKiw7A"
      }
    },
    {
      "cell_type": "markdown",
      "source": [
        "Using the parameter (argument) `control_scale=True` will place a helpful scale at the bottom/left of the map.   "
      ],
      "metadata": {
        "id": "0t8DdAfSi1SX"
      }
    },
    {
      "cell_type": "code",
      "source": [
        "folium.Map(location=[9.9355, -84.0990], zoom_start=13, control_scale=True, min_zoom=2)"
      ],
      "metadata": {
        "id": "_CaJ3TW9i_Yo"
      },
      "execution_count": null,
      "outputs": []
    },
    {
      "cell_type": "markdown",
      "source": [
        "###What about `tiles`?"
      ],
      "metadata": {
        "id": "5pAeCOhWkDrR"
      }
    },
    {
      "cell_type": "markdown",
      "source": [
        "The following **tilesets** are built-in to Folium. Pass any of the following to the `tiles=` keyword parameter (argument):    \n",
        "\n",
        " - **OpenStreetMap**: (Default **tileset**. Shows streets and place names.)    \n",
        "\n",
        " - **Mapbox Bright**:  (Limited levels of zoom for free tiles)    \n",
        "\n",
        " - **Mapbox Control Room**:  (Limited levels of zoom for free tiles)    \n",
        "\n",
        " - **Stamen**:  (`Terrain`, `Toner`, and `Watercolor`. Useful for grayscale applications.)    \n",
        "\n",
        " - **Cloudmade**:  (Must pass API key)    \n",
        "\n",
        " - **Mapbox**:  (Must pass API key)    \n",
        "\n",
        " - **CartoDB**:  (`positron` and `dark_matter`)    \n",
        "\n",
        "You can pass a custom tileset to Folium by passing a Leaflet-style URL to the tiles parameter in the form: **`http://{s}.yourtiles.com/{z}/{x}/{y}.png`**.    \n",
        "\n",
        "\n",
        "You can find a list of free tile providers [here](http://leaflet-extras.github.io/leaflet-providers/preview/).  Be sure to check their terms and conditions and to provide attribution with the attr keyword.    "
      ],
      "metadata": {
        "id": "QrExEbSckIRq"
      }
    },
    {
      "cell_type": "markdown",
      "source": [
        "*Try changing the <b>tileset</b> in the following map.*"
      ],
      "metadata": {
        "id": "fJPhJEWklkkl"
      }
    },
    {
      "cell_type": "code",
      "source": [
        "folium.Map(location=[9.9355, -84.0990], zoom_start=13, control_scale=True, min_zoom=2, tiles='CartoDBpositron')"
      ],
      "metadata": {
        "id": "GLqmoIlmlYkx"
      },
      "execution_count": null,
      "outputs": []
    },
    {
      "cell_type": "code",
      "source": [
        "folium.Map(location=[9.9355, -84.0990], zoom_start=13, control_scale=True, min_zoom=2, tiles='StamenWatercolor')"
      ],
      "metadata": {
        "id": "mFlvFACUmCYy"
      },
      "execution_count": null,
      "outputs": []
    },
    {
      "cell_type": "markdown",
      "source": [
        "\n",
        "\n",
        "---\n",
        "\n"
      ],
      "metadata": {
        "id": "HM1XuUYMPgdR"
      }
    },
    {
      "cell_type": "markdown",
      "source": [
        "###Using `.Marker()` icons in Folium maps    "
      ],
      "metadata": {
        "id": "GipvTxaJeb6E"
      }
    },
    {
      "cell_type": "markdown",
      "source": [
        "\n",
        "By default, icons are glyphicon from **bootstrap**, and their full list can be found [here](https://getbootstrap.com/docs/3.3/components/). Glyphicons are useful, but limited in range. To get more variety, we can use icons from **font-awesome**. The list of **font-awesome** icons is [here](https://fontawesome.com/v4.7.0/icons/). To use font-awesome icons, we need to specify the argument `prefix=‘fa’`.    \n",
        "\n",
        "Those two available icon sources:     \n",
        "\n",
        "  - [**GlyphIcons** from **bootstrap**](https://getbootstrap.com/docs/3.3/components/) - easiest    \n",
        "  \n",
        "  - [**FontAwesome** Icon Gallery](https://fontawesome.com/icons?d=gallery)      \n",
        "\n",
        "Another option we can take advantage of with icons is to change their color by using the `color=` argument. Available icon colors are:     \n",
        "```    \n",
        "‘red’, ‘blue’, ‘green’, ‘purple’, ‘orange’, ‘darkred’, ‘lightred’, ‘beige’, ‘darkblue’, ‘darkgreen’, ‘cadetblue’, ‘darkpurple’, ‘white’, ‘pink’, ‘lightblue’, ‘lightgreen’, ‘gray’, ‘black’, ‘lightgray’    \n",
        "```    \n",
        "    \n",
        "\n",
        "For our **CityTech** location, let's use the following icon specification:    \n",
        "```    \n",
        "icon=folium.Icon(icon=\"book\", color='blue')\n",
        "```    \n",
        "        \n",
        "\n",
        "For our feria locations, let's use the following icon specification:    \n",
        "```    \n",
        "icon=folium.Icon(icon=\"leaf\", color='green')\n",
        "```    \n",
        "        \n",
        "\n",
        "To use a **font-awesome** `bicycle` icon in the color `red` for locations, use the following icon specification:    \n",
        "```    \n",
        "icon=folium.Icon(color='red', prefix='fa',icon='bicycle')\n",
        "```    \n",
        "       \n",
        "\n"
      ],
      "metadata": {
        "id": "-SIfo2Cc3ehS"
      }
    },
    {
      "cell_type": "markdown",
      "metadata": {
        "id": "VoT_ujtXIUll"
      },
      "source": [
        "## Map with a marker - CityTech, Brooklyn NY USA "
      ]
    },
    {
      "cell_type": "code",
      "source": [
        "# try creating a .Marker() for CityTech in Brooklyn on a base map\n",
        "\n",
        "# create the base map\n",
        "bk_map = folium.Map(location=[40.6954, -73.9875], zoom_start=15, min_zoom=2, tiles=\"OpenStreetMap\")\n",
        "# comment out the line above and turn off the comment on the next line to try a watercolor base map\n",
        "# bk_map = folium.Map(location=[40.6954, -73.9875], zoom_start=15, min_zoom=2, tiles=\"StamenWatercolor\")\n",
        "\n",
        "## SOME HOUSEKEEPING FOR CONSTANTS\n",
        "# assign text to `tooltip_str` for use as tooltip\n",
        "tooltip = \"Click Here For More Info\"   \n",
        "\n",
        "### LOCATION SPECIFIC INFORMATION FOR MARKERS \n",
        "## add one marker with a popup icon for the Citytech location \n",
        "citytech_marker = folium.Marker(\n",
        "    location=[40.6954, -73.9875],\n",
        "    icon=folium.Icon(icon=\"book\", color='blue'),\n",
        "    # icon=folium.Icon(color='red', prefix='fa',icon='bicycle'), # try it with a red bike!\n",
        "    popup=\"<strong>CityTech</strong>\",\n",
        "    tooltip=tooltip,\n",
        "    )\n",
        "\n",
        "# add the marker to the map \n",
        "citytech_marker.add_to(bk_map)\n",
        "\n",
        "# display or save the map\n",
        "bk_map\n",
        "# bk_map.save('bk_map.html')"
      ],
      "metadata": {
        "id": "YqKpQinvtkzQ"
      },
      "execution_count": null,
      "outputs": []
    },
    {
      "cell_type": "markdown",
      "source": [
        "### Map with an  iFrame marker - Plaza Viquez feria, San Jose, Costa Rica "
      ],
      "metadata": {
        "id": "UDFrMvfoPlyE"
      }
    },
    {
      "cell_type": "code",
      "source": [
        "# create the base map\n",
        "feria_map = folium.Map(location=[9.9355, -84.0990], tiles=\"OpenStreetMap\", zoom_start=13, min_zoom=2)\n",
        "\n",
        "## SOME HOUSEKEEPING FOR CONSTANTS\n",
        "# assign text to `tooltip_str` for use as tooltip\n",
        "tooltip_str = \"Click Here For More Info\"    \n",
        "\n",
        "### LOCATION SPECIFIC INFORMATION FOR MARKERS \n",
        "\n",
        "## PLAZA VIQUEZ \n",
        "\n",
        "# basic HTML for Plaza Viquez info\n",
        "viquez_htm = '''<strong><u>Plaza Viquez</u></strong><br>\n",
        "<i>Saturdays</i><br>\n",
        "05:00 - 13:00'''    \n",
        "\n",
        "# IFrame for Plaza Viquez popup info on marker\n",
        "viquez_popup_iframe = folium.IFrame(viquez_htm,\n",
        "                       width=250,\n",
        "                       height=75)\n",
        "\n",
        "# HTML for Plaza Viquez popup info on marker (based on IFrame)\n",
        "viquez_popup_htm = folium.Popup(viquez_popup_iframe,\n",
        "                     max_width=100)\n",
        "\n",
        "# create marker for Plaza Viquez\n",
        "viquez_marker = folium.Marker(\n",
        "    location=[9.92520232110662, -84.076688122587],\n",
        "    icon=folium.Icon(icon=\"leaf\", color='green'),\n",
        "    popup=viquez_popup_htm,\n",
        "    tooltip=tooltip_str)\n",
        "\n",
        "# add marker to feria_map\n",
        "viquez_marker.add_to(feria_map)\n",
        "\n",
        "# display or save the `feria_map` \n",
        "feria_map  \n",
        "# feria_map.save('feria_map.html'"
      ],
      "metadata": {
        "id": "AE9LSmZ3IYSq"
      },
      "execution_count": null,
      "outputs": []
    },
    {
      "cell_type": "markdown",
      "source": [
        "### Map with IFrame markers for 4 Ferias in San Jose, Costa Rica "
      ],
      "metadata": {
        "id": "juyTj0-2F2ht"
      }
    },
    {
      "cell_type": "code",
      "metadata": {
        "id": "AgBE4LLtOeeM"
      },
      "source": [
        "# create the base map\n",
        "feria_map = folium.Map(location=[9.93550, -84.0990], tiles=\"OpenStreetMap\", zoom_start=13, min_zoom=2)\n",
        "\n",
        "## SOME HOUSEKEEPING FOR CONSTANTS\n",
        "# assign text to `tooltip_str` for use as tooltip\n",
        "tooltip_str = \"Click Here For More Info\"    \n",
        "\n",
        "### LOCATION SPECIFIC INFORMATION FOR MARKERS \n",
        "\n",
        "## PLAZA VIQUEZ \n",
        "\n",
        "# basic HTML for Plaza Viquez info\n",
        "viquez_htm = '''<strong><u>Plaza Viquez</u></strong><br>\n",
        "<i>Saturdays</i><br>\n",
        "05:00 - 13:00'''    \n",
        "\n",
        "# IFrame for Plaza Viquez popup info on marker\n",
        "viquez_popup_iframe = folium.IFrame(viquez_htm,\n",
        "                       width=250,\n",
        "                       height=75)\n",
        "\n",
        "# HTML for Plaza Viquez popup info on marker (based on IFrame)\n",
        "viquez_popup_htm = folium.Popup(viquez_popup_iframe,\n",
        "                     max_width=100)\n",
        "\n",
        "# create marker for Plaza Viquez\n",
        "viquez_marker = folium.Marker(\n",
        "    location=[9.92520232110662, -84.076688122587],\n",
        "    icon=folium.Icon(icon=\"leaf\"),\n",
        "    popup=viquez_popup_htm,\n",
        "    tooltip=tooltip_str)\n",
        "\n",
        "# add marker to feria_map\n",
        "viquez_marker.add_to(feria_map)\n",
        "\n",
        "## ESCAZU CENTRO  \n",
        "\n",
        "# basic HTML for Escazu Centro info\n",
        "escazu_htm = '''<strong><u>Escazu Centro</u></strong><br>\n",
        "<i>Saturdays</i><br>\n",
        "05:00 - 13:00'''    \n",
        "\n",
        "# IFrame for Escazu Centro popup info on marker\n",
        "escazu_popup_iframe = folium.IFrame(escazu_htm,\n",
        "                       width=250,\n",
        "                       height=75)\n",
        "\n",
        "# HTML for Escazu Centro popup info on marker (based on IFrame)\n",
        "escazu_popup_htm = folium.Popup(escazu_popup_iframe,\n",
        "                     max_width=100)\n",
        "\n",
        "# create marker for Escazu Centro\n",
        "escazu_marker = folium.Marker(\n",
        "    location=[9.9195377417559, -84.1400002652879],\n",
        "    icon=folium.Icon(icon=\"leaf\"),\n",
        "    popup=escazu_popup_htm,\n",
        "    tooltip=tooltip_str)\n",
        "\n",
        "# add marker to feria_map\n",
        "escazu_marker.add_to(feria_map)\n",
        "\n",
        "## SANTA ANA \n",
        "\n",
        "# basic HTML for Santa Ana info\n",
        "santana_htm = '''<strong><u>Santa Ana</u></strong><br>\n",
        "<i>Sundays</i><br>\n",
        "05:00 - 13:00'''    \n",
        "\n",
        "# IFrame for Santa Ana popup info on marker\n",
        "santana_popup_iframe = folium.IFrame(santana_htm,\n",
        "                       width=250,\n",
        "                       height=75)\n",
        "\n",
        "# HTML for Plaza Santa Ana popup info on marker (based on IFrame)\n",
        "santana_popup_htm = folium.Popup(santana_popup_iframe,\n",
        "                     max_width=100)\n",
        "\n",
        "# create marker for Santa Ana\n",
        "santana_marker = folium.Marker(\n",
        "    location=[9.93317209316712, -84.1810696624663],\n",
        "    icon=folium.Icon(icon=\"leaf\"),\n",
        "    popup=santana_popup_htm,\n",
        "    tooltip=tooltip_str)\n",
        "\n",
        "# add marker to feria_map\n",
        "santana_marker.add_to(feria_map)\n",
        "\n",
        "## FERIA VERDE ARANJUEZ \n",
        "\n",
        "# basic HTML for Feria Verde Aranjuez info\n",
        "aranjuez_htm = '''<strong><u>Feria Verde Aranjuez</u></strong><br>\n",
        "<i>Saturdays</i><br>\n",
        "07:00 - 12:00'''    \n",
        "\n",
        "# IFrame for Feria Verde Aranjuez popup info on marker\n",
        "aranjuez_popup_iframe = folium.IFrame(aranjuez_htm,\n",
        "                       width=250,\n",
        "                       height=75)\n",
        "\n",
        "# HTML for Feria Verde Aranjuez popup info on marker (based on IFrame)\n",
        "aranjuez_popup_htm = folium.Popup(aranjuez_popup_iframe,\n",
        "                     max_width=150)\n",
        "\n",
        "# create marker for Feria Verde Aranjuez\n",
        "aranjuez_marker = folium.Marker(\n",
        "    location=[9.94029048741197, -84.0681553317796],\n",
        "    icon=folium.Icon(icon=\"leaf\"),\n",
        "    popup=aranjuez_popup_htm,\n",
        "    tooltip=tooltip_str)\n",
        "\n",
        "# add marker to feria_map\n",
        "aranjuez_marker.add_to(feria_map)\n",
        "\n",
        "# display or save the `feria_map` \n",
        "feria_map  \n",
        "# feria_map.save('feria_map.html') "
      ],
      "execution_count": null,
      "outputs": []
    },
    {
      "cell_type": "markdown",
      "source": [
        "####Inspecting the popup objects"
      ],
      "metadata": {
        "id": "Tb6_zSW46LTI"
      }
    },
    {
      "cell_type": "code",
      "source": [
        "print(santana_htm)"
      ],
      "metadata": {
        "id": "XX-MHMlb4zyY"
      },
      "execution_count": null,
      "outputs": []
    },
    {
      "cell_type": "code",
      "source": [
        "print(santana_popup_iframe)\n",
        "# dir(santana_popup_iframe)\n",
        "santana_popup_if_dict = santana_popup_iframe.to_dict()\n",
        "print(santana_popup_if_dict)"
      ],
      "metadata": {
        "id": "FcF85L7-5KV-"
      },
      "execution_count": null,
      "outputs": []
    },
    {
      "cell_type": "code",
      "source": [
        "print(santana_popup_htm)\n",
        "# dir(santana_popup_htm)\n",
        "santana_popup_htm_dict = santana_popup_htm.to_dict()\n",
        "print(santana_popup_htm_dict)"
      ],
      "metadata": {
        "id": "NT39p7Cx5AMp"
      },
      "execution_count": null,
      "outputs": []
    },
    {
      "cell_type": "markdown",
      "source": [
        "---"
      ],
      "metadata": {
        "id": "x4w9xW1B4j1V"
      }
    },
    {
      "cell_type": "markdown",
      "source": [
        "###Map with IFrame Markers from DataFrame - Ferias in San Jose, Costa Rica   "
      ],
      "metadata": {
        "id": "yYIGeFrm4TEg"
      }
    },
    {
      "cell_type": "markdown",
      "source": [
        "####What if we centered the base map using the mean latitude and longitude of ferias?    "
      ],
      "metadata": {
        "id": "DbFnca7wB0eX"
      }
    },
    {
      "cell_type": "code",
      "source": [
        "feria_map = folium.Map(location=[feria_df.lat.mean(), feria_df.lon.mean()], zoom_start=13, control_scale=True, min_zoom=2)"
      ],
      "metadata": {
        "id": "HIAIyV3UB7-n"
      },
      "execution_count": null,
      "outputs": []
    },
    {
      "cell_type": "code",
      "source": [
        "# display or save the `feria_map` \n",
        "feria_map  \n",
        "# feria_map.save('feria_map.html'"
      ],
      "metadata": {
        "id": "tKfyhwTuCK2F"
      },
      "execution_count": null,
      "outputs": []
    },
    {
      "cell_type": "markdown",
      "source": [
        "#### First, Iterate through the `feria_df` dataframe and create a simple marker for each row.  "
      ],
      "metadata": {
        "id": "nwjfF9COCo2F"
      }
    },
    {
      "cell_type": "code",
      "source": [
        "## CREATE THE BASE MAP\n",
        "feria_map = folium.Map(location=[feria_df.lat.mean(), feria_df.lon.mean()], zoom_start=13, control_scale=True, min_zoom=2)\n",
        "\n",
        "## SOME HOUSEKEEPING FOR CONSTANTS\n",
        "# assign text to `tooltip_str` for use as tooltip\n",
        "tooltip_str = \"Click Here For More Info\"    \n",
        "\n",
        "## ITERATE THROUGH THE DATAFRAME TO CREATE POPUPS\n",
        "for index, location_info in feria_df.iterrows():\n",
        "    folium.Marker([location_info[\"lat\"], \n",
        "                   location_info[\"lon\"]], \n",
        "                  popup=location_info[\"label\"],\n",
        "                  icon=folium.Icon(icon=\"leaf\"),\n",
        "                  tooltip=tooltip_str\n",
        "                  ).add_to(feria_map)\n"
      ],
      "metadata": {
        "id": "6fjKyCq1C-dj"
      },
      "execution_count": null,
      "outputs": []
    },
    {
      "cell_type": "code",
      "source": [
        "# display or save the `feria_map` \n",
        "feria_map  \n",
        "# feria_map.save('feria_map.html'"
      ],
      "metadata": {
        "id": "IPjpqEojDXs6"
      },
      "execution_count": null,
      "outputs": []
    },
    {
      "cell_type": "markdown",
      "source": [
        "####Next, construct a `popup=` `.Marker()` for each location (row) in the `feria_df` dataframe using these steps:    \n",
        " 1. Basic HTML with location information\n",
        " 2. Popup IFrame string based on basic location HTML\n",
        " 3. Popup HTML based on IFrame       \n"
      ],
      "metadata": {
        "id": "MUKX12n2FBe1"
      }
    },
    {
      "cell_type": "code",
      "source": [
        "## CREATE THE BASE MAP\n",
        "feria_map = folium.Map(location=[feria_df.lat.mean(), feria_df.lon.mean()], zoom_start=13, control_scale=True, min_zoom=2)\n",
        "\n",
        "## SOME HOUSEKEEPING FOR CONSTANTS\n",
        "# assign text to `tooltip_str` for use as tooltip\n",
        "tooltip_str = \"Click Here For More Info\"    \n",
        "\n",
        "\n",
        "## ITERATE THROUGH THE DATAFRAME TO CREATE POPUPS\n",
        "# enumeration of the row index and a dictionary of column : value pairs\n",
        "# this example gives the name `location_info` to the enumerated pairs\n",
        "for index, location_info in feria_df.iterrows():\n",
        "\n",
        "    ## 1. basic HTML for location info\n",
        "    # assign location_info for row into label, days, hours string variables\n",
        "    label_str = location_info['label']\n",
        "    days_str =  location_info['days']\n",
        "    hours_str =  location_info['opens'] + ' - ' + location_info['closes']\n",
        "\n",
        "    # using fstring: construct basic HTML for location with label, days, and hours strings \n",
        "    location_htm = f'<strong><u>{label_str}</u></strong><br>\\n<i>{days_str}</i><br>\\n{hours_str}'\n",
        "\n",
        "    # scaffolding to peek at location HTML\n",
        "    # print(location_htm, '\\n')   \n",
        "    \n",
        "    ## 2. Popup IFrame using basic HTML to `popup_iframe` \n",
        "    popup_iframe = folium.IFrame(location_htm,\n",
        "                       width=250,\n",
        "                       height=75)\n",
        "    \n",
        "    ## 3. Popup HTML based on IFrame to `pop_up_htm` \n",
        "    popup_htm = folium.Popup(popup_iframe,\n",
        "                     max_width=150)\n",
        "    \n",
        "    # create a marker for the location, using `popup_htm` HTML\n",
        "    folium.Marker([location_info[\"lat\"], \n",
        "                   location_info[\"lon\"]], \n",
        "                  popup=popup_htm,\n",
        "                  icon=folium.Icon(icon=\"leaf\"),\n",
        "                  tooltip=tooltip_str\n",
        "                  ).add_to(feria_map)\n"
      ],
      "metadata": {
        "id": "yi2CZYBWFQ8x"
      },
      "execution_count": null,
      "outputs": []
    },
    {
      "cell_type": "code",
      "source": [
        "# display or save the `feria_map` \n",
        "feria_map  \n",
        "# feria_map.save('feria_map.html'"
      ],
      "metadata": {
        "id": "vJsz3UT-M_i0"
      },
      "execution_count": null,
      "outputs": []
    },
    {
      "cell_type": "markdown",
      "source": [
        "---"
      ],
      "metadata": {
        "id": "Mkni6g_5hf6p"
      }
    },
    {
      "cell_type": "markdown",
      "source": [
        "<i>Note: another way to insert values into a multi-line string (docstring) of markup text:</i>    "
      ],
      "metadata": {
        "id": "cLhYyr-9hNe1"
      }
    },
    {
      "cell_type": "code",
      "source": [
        "insert_this_str = 'found on StackOverflow'\n",
        "print(\"\"\"Did you know \n",
        "that this was \n",
        "{}?\"\"\".format(insert_this_str))"
      ],
      "metadata": {
        "colab": {
          "base_uri": "https://localhost:8080/"
        },
        "id": "PMVkEbf5N2U1",
        "outputId": "02ce3bff-0d7d-49f9-fde4-8f55e26cb563"
      },
      "execution_count": null,
      "outputs": [
        {
          "output_type": "stream",
          "name": "stdout",
          "text": [
            "Did you know \n",
            "that this was \n",
            "found on StackOverflow?\n"
          ]
        }
      ]
    },
    {
      "cell_type": "markdown",
      "source": [
        "\n",
        "\n",
        "---\n",
        "\n"
      ],
      "metadata": {
        "id": "yFuaULKYOZQQ"
      }
    }
  ]
}