{
  "nbformat": 4,
  "nbformat_minor": 0,
  "metadata": {
    "colab": {
      "provenance": [],
      "collapsed_sections": [
        "Tb6_zSW46LTI"
      ],
      "include_colab_link": true
    },
    "kernelspec": {
      "name": "python3",
      "display_name": "Python 3"
    },
    "language_info": {
      "name": "python"
    }
  },
  "cells": [
    {
      "cell_type": "markdown",
      "metadata": {
        "id": "view-in-github",
        "colab_type": "text"
      },
      "source": [
        "<a href=\"https://colab.research.google.com/github/ProfessorPatrickSlatraigh/geo/blob/main/_geo_map_feriaAgricultores.ipynb\" target=\"_parent\"><img src=\"https://colab.research.google.com/assets/colab-badge.svg\" alt=\"Open In Colab\"/></a>"
      ]
    },
    {
      "cell_type": "markdown",
      "source": [
        "#CST3512    - Feria Agricultores in Costa Rica    \n",
        "**Maps Examples Using Python and Folium**    \n"
      ],
      "metadata": {
        "id": "98LjHdfzTRHS"
      }
    },
    {
      "cell_type": "markdown",
      "source": [
        "\n",
        "notes: \n",
        "\n",
        "* [**Title**](https://site.com/inndex)   \n",
        "\n"
      ],
      "metadata": {
        "id": "YWZWDKqzNtHA"
      }
    },
    {
      "cell_type": "markdown",
      "source": [
        "##Housekeeping   "
      ],
      "metadata": {
        "id": "W9jqNxqm4Tqb"
      }
    },
    {
      "cell_type": "markdown",
      "metadata": {
        "id": "7PnKgJ7fF1fI"
      },
      "source": [
        "### Install libraries"
      ]
    },
    {
      "cell_type": "markdown",
      "source": [
        "Import the usual suspects "
      ],
      "metadata": {
        "id": "eBvF0-cf1HJZ"
      }
    },
    {
      "cell_type": "code",
      "source": [
        "import pandas as pd\n",
        "import numpy as np "
      ],
      "metadata": {
        "id": "1P6xBbLn1Jet"
      },
      "execution_count": 1,
      "outputs": []
    },
    {
      "cell_type": "markdown",
      "source": [
        "Install and import Folium "
      ],
      "metadata": {
        "id": "sXBw-d6u1Nbr"
      }
    },
    {
      "cell_type": "code",
      "metadata": {
        "id": "5SRiLON1E2qq",
        "outputId": "702640ab-9be6-487c-c74c-e6477f57daaa",
        "colab": {
          "base_uri": "https://localhost:8080/"
        }
      },
      "source": [
        "!pip install folium pandas"
      ],
      "execution_count": 2,
      "outputs": [
        {
          "output_type": "stream",
          "name": "stdout",
          "text": [
            "Looking in indexes: https://pypi.org/simple, https://us-python.pkg.dev/colab-wheels/public/simple/\n",
            "Requirement already satisfied: folium in /usr/local/lib/python3.7/dist-packages (0.12.1.post1)\n",
            "Requirement already satisfied: pandas in /usr/local/lib/python3.7/dist-packages (1.3.5)\n",
            "Requirement already satisfied: numpy in /usr/local/lib/python3.7/dist-packages (from folium) (1.21.6)\n",
            "Requirement already satisfied: branca>=0.3.0 in /usr/local/lib/python3.7/dist-packages (from folium) (0.6.0)\n",
            "Requirement already satisfied: jinja2>=2.9 in /usr/local/lib/python3.7/dist-packages (from folium) (2.11.3)\n",
            "Requirement already satisfied: requests in /usr/local/lib/python3.7/dist-packages (from folium) (2.23.0)\n",
            "Requirement already satisfied: MarkupSafe>=0.23 in /usr/local/lib/python3.7/dist-packages (from jinja2>=2.9->folium) (2.0.1)\n",
            "Requirement already satisfied: python-dateutil>=2.7.3 in /usr/local/lib/python3.7/dist-packages (from pandas) (2.8.2)\n",
            "Requirement already satisfied: pytz>=2017.3 in /usr/local/lib/python3.7/dist-packages (from pandas) (2022.6)\n",
            "Requirement already satisfied: six>=1.5 in /usr/local/lib/python3.7/dist-packages (from python-dateutil>=2.7.3->pandas) (1.15.0)\n",
            "Requirement already satisfied: idna<3,>=2.5 in /usr/local/lib/python3.7/dist-packages (from requests->folium) (2.10)\n",
            "Requirement already satisfied: chardet<4,>=3.0.2 in /usr/local/lib/python3.7/dist-packages (from requests->folium) (3.0.4)\n",
            "Requirement already satisfied: urllib3!=1.25.0,!=1.25.1,<1.26,>=1.21.1 in /usr/local/lib/python3.7/dist-packages (from requests->folium) (1.24.3)\n",
            "Requirement already satisfied: certifi>=2017.4.17 in /usr/local/lib/python3.7/dist-packages (from requests->folium) (2022.9.24)\n"
          ]
        }
      ]
    },
    {
      "cell_type": "code",
      "metadata": {
        "id": "4QJt__yzGDfs"
      },
      "source": [
        "import folium"
      ],
      "execution_count": 3,
      "outputs": []
    },
    {
      "cell_type": "markdown",
      "source": [
        "##Load dataset(s)    \n"
      ],
      "metadata": {
        "id": "lOQPT1o34WwW"
      }
    },
    {
      "cell_type": "markdown",
      "source": [
        "Read SJO CR feria agricultores from a CSV file on GitHub into a dataframe"
      ],
      "metadata": {
        "id": "OhUJt8T_AiKW"
      }
    },
    {
      "cell_type": "code",
      "source": [
        "# assign URL of source data file to a variable\n",
        "feria_url = r\"https://raw.githubusercontent.com/ProfessorPatrickSlatraigh/geo/main/feriaAgricultores.csv\"\n",
        "\n",
        "# use the variable `location` to read a `.csv` file of data into the dataframe `feria_df`\n",
        "feria_df = pd.read_csv(feria_url, usecols = ['enLabel', 'enName', 'lat', 'lon', 'enDays', 'abierto', 'cerrado'])"
      ],
      "metadata": {
        "id": "6JRw1g1W4aBi"
      },
      "execution_count": 22,
      "outputs": []
    },
    {
      "cell_type": "code",
      "source": [
        "feria_df"
      ],
      "metadata": {
        "colab": {
          "base_uri": "https://localhost:8080/",
          "height": 206
        },
        "id": "SQpxmxhL54bf",
        "outputId": "6b16e420-c9f3-40eb-9e01-5c6d53ce0a55"
      },
      "execution_count": 23,
      "outputs": [
        {
          "output_type": "execute_result",
          "data": {
            "text/plain": [
              "        lat        lon abierto cerrado          enLabel  \\\n",
              "0  9.925202 -84.076688    5:00   13:30     Plaza Viquez   \n",
              "1  9.933172 -84.181070    5:00   13:00        Santa Ana   \n",
              "2  9.919538 -84.140000    5:00   13:00  Escazu (centro)   \n",
              "3  9.944562 -84.159499    5:00   13:00      Guachipelin   \n",
              "4  9.940290 -84.068155    7:00   12:00         Aranjuez   \n",
              "\n",
              "                                 enName    enDays  \n",
              "0  Feria del agricultor de Plaza Víquez  Saturday  \n",
              "1        Feria Del Agricultor Santa Ana    Sunday  \n",
              "2              Feria de Escazu (centro)  Saturday  \n",
              "3  Feria Agricultur Guachipelin, Escazu    Sunday  \n",
              "4                  Feria Verde Aranjuez    Sunday  "
            ],
            "text/html": [
              "\n",
              "  <div id=\"df-c73703b0-2c90-4700-9988-217868260110\">\n",
              "    <div class=\"colab-df-container\">\n",
              "      <div>\n",
              "<style scoped>\n",
              "    .dataframe tbody tr th:only-of-type {\n",
              "        vertical-align: middle;\n",
              "    }\n",
              "\n",
              "    .dataframe tbody tr th {\n",
              "        vertical-align: top;\n",
              "    }\n",
              "\n",
              "    .dataframe thead th {\n",
              "        text-align: right;\n",
              "    }\n",
              "</style>\n",
              "<table border=\"1\" class=\"dataframe\">\n",
              "  <thead>\n",
              "    <tr style=\"text-align: right;\">\n",
              "      <th></th>\n",
              "      <th>lat</th>\n",
              "      <th>lon</th>\n",
              "      <th>abierto</th>\n",
              "      <th>cerrado</th>\n",
              "      <th>enLabel</th>\n",
              "      <th>enName</th>\n",
              "      <th>enDays</th>\n",
              "    </tr>\n",
              "  </thead>\n",
              "  <tbody>\n",
              "    <tr>\n",
              "      <th>0</th>\n",
              "      <td>9.925202</td>\n",
              "      <td>-84.076688</td>\n",
              "      <td>5:00</td>\n",
              "      <td>13:30</td>\n",
              "      <td>Plaza Viquez</td>\n",
              "      <td>Feria del agricultor de Plaza Víquez</td>\n",
              "      <td>Saturday</td>\n",
              "    </tr>\n",
              "    <tr>\n",
              "      <th>1</th>\n",
              "      <td>9.933172</td>\n",
              "      <td>-84.181070</td>\n",
              "      <td>5:00</td>\n",
              "      <td>13:00</td>\n",
              "      <td>Santa Ana</td>\n",
              "      <td>Feria Del Agricultor Santa Ana</td>\n",
              "      <td>Sunday</td>\n",
              "    </tr>\n",
              "    <tr>\n",
              "      <th>2</th>\n",
              "      <td>9.919538</td>\n",
              "      <td>-84.140000</td>\n",
              "      <td>5:00</td>\n",
              "      <td>13:00</td>\n",
              "      <td>Escazu (centro)</td>\n",
              "      <td>Feria de Escazu (centro)</td>\n",
              "      <td>Saturday</td>\n",
              "    </tr>\n",
              "    <tr>\n",
              "      <th>3</th>\n",
              "      <td>9.944562</td>\n",
              "      <td>-84.159499</td>\n",
              "      <td>5:00</td>\n",
              "      <td>13:00</td>\n",
              "      <td>Guachipelin</td>\n",
              "      <td>Feria Agricultur Guachipelin, Escazu</td>\n",
              "      <td>Sunday</td>\n",
              "    </tr>\n",
              "    <tr>\n",
              "      <th>4</th>\n",
              "      <td>9.940290</td>\n",
              "      <td>-84.068155</td>\n",
              "      <td>7:00</td>\n",
              "      <td>12:00</td>\n",
              "      <td>Aranjuez</td>\n",
              "      <td>Feria Verde Aranjuez</td>\n",
              "      <td>Sunday</td>\n",
              "    </tr>\n",
              "  </tbody>\n",
              "</table>\n",
              "</div>\n",
              "      <button class=\"colab-df-convert\" onclick=\"convertToInteractive('df-c73703b0-2c90-4700-9988-217868260110')\"\n",
              "              title=\"Convert this dataframe to an interactive table.\"\n",
              "              style=\"display:none;\">\n",
              "        \n",
              "  <svg xmlns=\"http://www.w3.org/2000/svg\" height=\"24px\"viewBox=\"0 0 24 24\"\n",
              "       width=\"24px\">\n",
              "    <path d=\"M0 0h24v24H0V0z\" fill=\"none\"/>\n",
              "    <path d=\"M18.56 5.44l.94 2.06.94-2.06 2.06-.94-2.06-.94-.94-2.06-.94 2.06-2.06.94zm-11 1L8.5 8.5l.94-2.06 2.06-.94-2.06-.94L8.5 2.5l-.94 2.06-2.06.94zm10 10l.94 2.06.94-2.06 2.06-.94-2.06-.94-.94-2.06-.94 2.06-2.06.94z\"/><path d=\"M17.41 7.96l-1.37-1.37c-.4-.4-.92-.59-1.43-.59-.52 0-1.04.2-1.43.59L10.3 9.45l-7.72 7.72c-.78.78-.78 2.05 0 2.83L4 21.41c.39.39.9.59 1.41.59.51 0 1.02-.2 1.41-.59l7.78-7.78 2.81-2.81c.8-.78.8-2.07 0-2.86zM5.41 20L4 18.59l7.72-7.72 1.47 1.35L5.41 20z\"/>\n",
              "  </svg>\n",
              "      </button>\n",
              "      \n",
              "  <style>\n",
              "    .colab-df-container {\n",
              "      display:flex;\n",
              "      flex-wrap:wrap;\n",
              "      gap: 12px;\n",
              "    }\n",
              "\n",
              "    .colab-df-convert {\n",
              "      background-color: #E8F0FE;\n",
              "      border: none;\n",
              "      border-radius: 50%;\n",
              "      cursor: pointer;\n",
              "      display: none;\n",
              "      fill: #1967D2;\n",
              "      height: 32px;\n",
              "      padding: 0 0 0 0;\n",
              "      width: 32px;\n",
              "    }\n",
              "\n",
              "    .colab-df-convert:hover {\n",
              "      background-color: #E2EBFA;\n",
              "      box-shadow: 0px 1px 2px rgba(60, 64, 67, 0.3), 0px 1px 3px 1px rgba(60, 64, 67, 0.15);\n",
              "      fill: #174EA6;\n",
              "    }\n",
              "\n",
              "    [theme=dark] .colab-df-convert {\n",
              "      background-color: #3B4455;\n",
              "      fill: #D2E3FC;\n",
              "    }\n",
              "\n",
              "    [theme=dark] .colab-df-convert:hover {\n",
              "      background-color: #434B5C;\n",
              "      box-shadow: 0px 1px 3px 1px rgba(0, 0, 0, 0.15);\n",
              "      filter: drop-shadow(0px 1px 2px rgba(0, 0, 0, 0.3));\n",
              "      fill: #FFFFFF;\n",
              "    }\n",
              "  </style>\n",
              "\n",
              "      <script>\n",
              "        const buttonEl =\n",
              "          document.querySelector('#df-c73703b0-2c90-4700-9988-217868260110 button.colab-df-convert');\n",
              "        buttonEl.style.display =\n",
              "          google.colab.kernel.accessAllowed ? 'block' : 'none';\n",
              "\n",
              "        async function convertToInteractive(key) {\n",
              "          const element = document.querySelector('#df-c73703b0-2c90-4700-9988-217868260110');\n",
              "          const dataTable =\n",
              "            await google.colab.kernel.invokeFunction('convertToInteractive',\n",
              "                                                     [key], {});\n",
              "          if (!dataTable) return;\n",
              "\n",
              "          const docLinkHtml = 'Like what you see? Visit the ' +\n",
              "            '<a target=\"_blank\" href=https://colab.research.google.com/notebooks/data_table.ipynb>data table notebook</a>'\n",
              "            + ' to learn more about interactive tables.';\n",
              "          element.innerHTML = '';\n",
              "          dataTable['output_type'] = 'display_data';\n",
              "          await google.colab.output.renderOutput(dataTable, element);\n",
              "          const docLink = document.createElement('div');\n",
              "          docLink.innerHTML = docLinkHtml;\n",
              "          element.appendChild(docLink);\n",
              "        }\n",
              "      </script>\n",
              "    </div>\n",
              "  </div>\n",
              "  "
            ]
          },
          "metadata": {},
          "execution_count": 23
        }
      ]
    },
    {
      "cell_type": "code",
      "source": [
        "feria_df.rename(columns = {'abierto':'opens', 'cerrado': 'closes', 'enLabel' : 'label', 'enName': 'name', 'enDays': 'Days'}, inplace = True)"
      ],
      "metadata": {
        "id": "CsoCdPD9_-OZ"
      },
      "execution_count": 24,
      "outputs": []
    },
    {
      "cell_type": "markdown",
      "source": [
        "Let's make it easier on ourselves and relabel some columns."
      ],
      "metadata": {
        "id": "b0E6W1FgAc38"
      }
    },
    {
      "cell_type": "code",
      "source": [
        "feria_df"
      ],
      "metadata": {
        "colab": {
          "base_uri": "https://localhost:8080/",
          "height": 206
        },
        "id": "nmBB8ybsAU9f",
        "outputId": "49ab045d-13d7-4edd-ade9-da4daec6cb31"
      },
      "execution_count": 25,
      "outputs": [
        {
          "output_type": "execute_result",
          "data": {
            "text/plain": [
              "        lat        lon opens closes            label  \\\n",
              "0  9.925202 -84.076688  5:00  13:30     Plaza Viquez   \n",
              "1  9.933172 -84.181070  5:00  13:00        Santa Ana   \n",
              "2  9.919538 -84.140000  5:00  13:00  Escazu (centro)   \n",
              "3  9.944562 -84.159499  5:00  13:00      Guachipelin   \n",
              "4  9.940290 -84.068155  7:00  12:00         Aranjuez   \n",
              "\n",
              "                                   name      Days  \n",
              "0  Feria del agricultor de Plaza Víquez  Saturday  \n",
              "1        Feria Del Agricultor Santa Ana    Sunday  \n",
              "2              Feria de Escazu (centro)  Saturday  \n",
              "3  Feria Agricultur Guachipelin, Escazu    Sunday  \n",
              "4                  Feria Verde Aranjuez    Sunday  "
            ],
            "text/html": [
              "\n",
              "  <div id=\"df-30aa5e53-22b2-43a8-9241-1dfa27dc2a91\">\n",
              "    <div class=\"colab-df-container\">\n",
              "      <div>\n",
              "<style scoped>\n",
              "    .dataframe tbody tr th:only-of-type {\n",
              "        vertical-align: middle;\n",
              "    }\n",
              "\n",
              "    .dataframe tbody tr th {\n",
              "        vertical-align: top;\n",
              "    }\n",
              "\n",
              "    .dataframe thead th {\n",
              "        text-align: right;\n",
              "    }\n",
              "</style>\n",
              "<table border=\"1\" class=\"dataframe\">\n",
              "  <thead>\n",
              "    <tr style=\"text-align: right;\">\n",
              "      <th></th>\n",
              "      <th>lat</th>\n",
              "      <th>lon</th>\n",
              "      <th>opens</th>\n",
              "      <th>closes</th>\n",
              "      <th>label</th>\n",
              "      <th>name</th>\n",
              "      <th>Days</th>\n",
              "    </tr>\n",
              "  </thead>\n",
              "  <tbody>\n",
              "    <tr>\n",
              "      <th>0</th>\n",
              "      <td>9.925202</td>\n",
              "      <td>-84.076688</td>\n",
              "      <td>5:00</td>\n",
              "      <td>13:30</td>\n",
              "      <td>Plaza Viquez</td>\n",
              "      <td>Feria del agricultor de Plaza Víquez</td>\n",
              "      <td>Saturday</td>\n",
              "    </tr>\n",
              "    <tr>\n",
              "      <th>1</th>\n",
              "      <td>9.933172</td>\n",
              "      <td>-84.181070</td>\n",
              "      <td>5:00</td>\n",
              "      <td>13:00</td>\n",
              "      <td>Santa Ana</td>\n",
              "      <td>Feria Del Agricultor Santa Ana</td>\n",
              "      <td>Sunday</td>\n",
              "    </tr>\n",
              "    <tr>\n",
              "      <th>2</th>\n",
              "      <td>9.919538</td>\n",
              "      <td>-84.140000</td>\n",
              "      <td>5:00</td>\n",
              "      <td>13:00</td>\n",
              "      <td>Escazu (centro)</td>\n",
              "      <td>Feria de Escazu (centro)</td>\n",
              "      <td>Saturday</td>\n",
              "    </tr>\n",
              "    <tr>\n",
              "      <th>3</th>\n",
              "      <td>9.944562</td>\n",
              "      <td>-84.159499</td>\n",
              "      <td>5:00</td>\n",
              "      <td>13:00</td>\n",
              "      <td>Guachipelin</td>\n",
              "      <td>Feria Agricultur Guachipelin, Escazu</td>\n",
              "      <td>Sunday</td>\n",
              "    </tr>\n",
              "    <tr>\n",
              "      <th>4</th>\n",
              "      <td>9.940290</td>\n",
              "      <td>-84.068155</td>\n",
              "      <td>7:00</td>\n",
              "      <td>12:00</td>\n",
              "      <td>Aranjuez</td>\n",
              "      <td>Feria Verde Aranjuez</td>\n",
              "      <td>Sunday</td>\n",
              "    </tr>\n",
              "  </tbody>\n",
              "</table>\n",
              "</div>\n",
              "      <button class=\"colab-df-convert\" onclick=\"convertToInteractive('df-30aa5e53-22b2-43a8-9241-1dfa27dc2a91')\"\n",
              "              title=\"Convert this dataframe to an interactive table.\"\n",
              "              style=\"display:none;\">\n",
              "        \n",
              "  <svg xmlns=\"http://www.w3.org/2000/svg\" height=\"24px\"viewBox=\"0 0 24 24\"\n",
              "       width=\"24px\">\n",
              "    <path d=\"M0 0h24v24H0V0z\" fill=\"none\"/>\n",
              "    <path d=\"M18.56 5.44l.94 2.06.94-2.06 2.06-.94-2.06-.94-.94-2.06-.94 2.06-2.06.94zm-11 1L8.5 8.5l.94-2.06 2.06-.94-2.06-.94L8.5 2.5l-.94 2.06-2.06.94zm10 10l.94 2.06.94-2.06 2.06-.94-2.06-.94-.94-2.06-.94 2.06-2.06.94z\"/><path d=\"M17.41 7.96l-1.37-1.37c-.4-.4-.92-.59-1.43-.59-.52 0-1.04.2-1.43.59L10.3 9.45l-7.72 7.72c-.78.78-.78 2.05 0 2.83L4 21.41c.39.39.9.59 1.41.59.51 0 1.02-.2 1.41-.59l7.78-7.78 2.81-2.81c.8-.78.8-2.07 0-2.86zM5.41 20L4 18.59l7.72-7.72 1.47 1.35L5.41 20z\"/>\n",
              "  </svg>\n",
              "      </button>\n",
              "      \n",
              "  <style>\n",
              "    .colab-df-container {\n",
              "      display:flex;\n",
              "      flex-wrap:wrap;\n",
              "      gap: 12px;\n",
              "    }\n",
              "\n",
              "    .colab-df-convert {\n",
              "      background-color: #E8F0FE;\n",
              "      border: none;\n",
              "      border-radius: 50%;\n",
              "      cursor: pointer;\n",
              "      display: none;\n",
              "      fill: #1967D2;\n",
              "      height: 32px;\n",
              "      padding: 0 0 0 0;\n",
              "      width: 32px;\n",
              "    }\n",
              "\n",
              "    .colab-df-convert:hover {\n",
              "      background-color: #E2EBFA;\n",
              "      box-shadow: 0px 1px 2px rgba(60, 64, 67, 0.3), 0px 1px 3px 1px rgba(60, 64, 67, 0.15);\n",
              "      fill: #174EA6;\n",
              "    }\n",
              "\n",
              "    [theme=dark] .colab-df-convert {\n",
              "      background-color: #3B4455;\n",
              "      fill: #D2E3FC;\n",
              "    }\n",
              "\n",
              "    [theme=dark] .colab-df-convert:hover {\n",
              "      background-color: #434B5C;\n",
              "      box-shadow: 0px 1px 3px 1px rgba(0, 0, 0, 0.15);\n",
              "      filter: drop-shadow(0px 1px 2px rgba(0, 0, 0, 0.3));\n",
              "      fill: #FFFFFF;\n",
              "    }\n",
              "  </style>\n",
              "\n",
              "      <script>\n",
              "        const buttonEl =\n",
              "          document.querySelector('#df-30aa5e53-22b2-43a8-9241-1dfa27dc2a91 button.colab-df-convert');\n",
              "        buttonEl.style.display =\n",
              "          google.colab.kernel.accessAllowed ? 'block' : 'none';\n",
              "\n",
              "        async function convertToInteractive(key) {\n",
              "          const element = document.querySelector('#df-30aa5e53-22b2-43a8-9241-1dfa27dc2a91');\n",
              "          const dataTable =\n",
              "            await google.colab.kernel.invokeFunction('convertToInteractive',\n",
              "                                                     [key], {});\n",
              "          if (!dataTable) return;\n",
              "\n",
              "          const docLinkHtml = 'Like what you see? Visit the ' +\n",
              "            '<a target=\"_blank\" href=https://colab.research.google.com/notebooks/data_table.ipynb>data table notebook</a>'\n",
              "            + ' to learn more about interactive tables.';\n",
              "          element.innerHTML = '';\n",
              "          dataTable['output_type'] = 'display_data';\n",
              "          await google.colab.output.renderOutput(dataTable, element);\n",
              "          const docLink = document.createElement('div');\n",
              "          docLink.innerHTML = docLinkHtml;\n",
              "          element.appendChild(docLink);\n",
              "        }\n",
              "      </script>\n",
              "    </div>\n",
              "  </div>\n",
              "  "
            ]
          },
          "metadata": {},
          "execution_count": 25
        }
      ]
    },
    {
      "cell_type": "markdown",
      "metadata": {
        "id": "RcHVYNpuOcgH"
      },
      "source": [
        "\n",
        "\n",
        "---\n",
        "\n"
      ]
    },
    {
      "cell_type": "markdown",
      "metadata": {
        "id": "yOgCOjktGB2t"
      },
      "source": [
        "## Create a basic map"
      ]
    },
    {
      "cell_type": "markdown",
      "source": [
        "Create a basic map for Downtown Brooklyn, NY USA"
      ],
      "metadata": {
        "id": "Howiqmh0AruA"
      }
    },
    {
      "cell_type": "code",
      "source": [
        "folium.Map(location=[40.6954, -73.9875], zoom_start=15, tiles=\"OpenStreetMap\")"
      ],
      "metadata": {
        "id": "Wx46IiTMAvin"
      },
      "execution_count": null,
      "outputs": []
    },
    {
      "cell_type": "markdown",
      "source": [
        "Create a basic map for San Jose, Costa Rica "
      ],
      "metadata": {
        "id": "O1L54jhXA4Ul"
      }
    },
    {
      "cell_type": "code",
      "metadata": {
        "id": "RupHslpLGGCN"
      },
      "source": [
        "folium.Map(location=[9.9355, -84.0990], zoom_start=13)"
      ],
      "execution_count": null,
      "outputs": []
    },
    {
      "cell_type": "markdown",
      "source": [
        "\n",
        "\n",
        "---\n",
        "\n"
      ],
      "metadata": {
        "id": "HM1XuUYMPgdR"
      }
    },
    {
      "cell_type": "markdown",
      "source": [
        "Some available icon sources:     \n",
        "\n",
        "  - [GlyphIcons](https://getbootstrap.com/docs/3.3/components/) - easiest    \n",
        "  \n",
        "  - [FontAwesome Icon Gallery](https://fontawesome.com/icons?d=gallery)        "
      ],
      "metadata": {
        "id": "-SIfo2Cc3ehS"
      }
    },
    {
      "cell_type": "markdown",
      "metadata": {
        "id": "VoT_ujtXIUll"
      },
      "source": [
        "## Map with a marker - CityTech, Brooklyn NY USA "
      ]
    },
    {
      "cell_type": "code",
      "source": [
        "# try it for CityTech in Brooklyn\n",
        "\n",
        "bk_map = folium.Map(location=[40.6954, -73.9875], zoom_start=15, tiles=\"OpenStreetMap\")\n",
        "\n",
        "tooltip = \"Click Here For More Info\"   \n",
        "\n",
        "citytech_marker = folium.Marker(\n",
        "    location=[40.6954, -73.9875],\n",
        "    icon=folium.Icon(icon=\"book\"),\n",
        "    popup=\"<strong>CityTech</strong>\",\n",
        "    tooltip=tooltip,\n",
        "    )\n",
        "\n",
        "citytech_marker.add_to(bk_map)\n",
        "\n",
        "bk_map"
      ],
      "metadata": {
        "id": "YqKpQinvtkzQ"
      },
      "execution_count": null,
      "outputs": []
    },
    {
      "cell_type": "markdown",
      "source": [
        "### Map with an  iFrame marker - Plaza Viquez feria, San Jose, Costa Rica "
      ],
      "metadata": {
        "id": "UDFrMvfoPlyE"
      }
    },
    {
      "cell_type": "code",
      "source": [
        "# create the base map\n",
        "feria_map = folium.Map(location=[9.9355, -84.0990], tiles=\"OpenStreetMap\", zoom_start=13)\n",
        "\n",
        "# assign text to `tooltip_str` for use as tooltip\n",
        "tooltip_str = \"Click Here For More Info\"    \n",
        "\n",
        "### LOCATION SPECIFIC INFORMATION FOR MARKERS \n",
        "\n",
        "## PLAZA VIQUEZ \n",
        "\n",
        "# basic HTML for Plaza Viquez info\n",
        "viquez_htm = '''<strong><u>Plaza Viquez</u></strong><br>\n",
        "<i>Saturdays</i><br>\n",
        "05:00 - 13:00'''    \n",
        "\n",
        "# IFrame for Plaza Viquez popup info on marker\n",
        "viquez_popup_iframe = folium.IFrame(viquez_htm,\n",
        "                       width=250,\n",
        "                       height=75)\n",
        "\n",
        "# HTML for Plaza Viquez popup info on marker (based on IFrame)\n",
        "viquez_popup_htm = folium.Popup(viquez_popup_iframe,\n",
        "                     max_width=100)\n",
        "\n",
        "# create marker for Plaza Viquez\n",
        "viquez_marker = folium.Marker(\n",
        "    location=[9.92520232110662, -84.076688122587],\n",
        "    icon=folium.Icon(icon=\"leaf\"),\n",
        "    popup=viquez_popup_htm,\n",
        "    tooltip=tooltip_str)\n",
        "\n",
        "# add marker to feria_map\n",
        "viquez_marker.add_to(feria_map)\n",
        "\n",
        "# display feria_map \n",
        "feria_map  "
      ],
      "metadata": {
        "id": "AE9LSmZ3IYSq"
      },
      "execution_count": null,
      "outputs": []
    },
    {
      "cell_type": "markdown",
      "source": [
        "### Map with IFrame markers for 4 Ferias in San Jose, Costa Rica "
      ],
      "metadata": {
        "id": "juyTj0-2F2ht"
      }
    },
    {
      "cell_type": "code",
      "metadata": {
        "id": "AgBE4LLtOeeM",
        "colab": {
          "base_uri": "https://localhost:8080/",
          "height": 775
        },
        "outputId": "7a0ccd3e-5172-41a6-bc0b-c937d5d290d6"
      },
      "source": [
        "# create the base map\n",
        "feria_map = folium.Map(location=[9.93550, -84.0990], tiles=\"OpenStreetMap\", zoom_start=13)\n",
        "\n",
        "# assign text to `tooltip_str` for use as tooltip\n",
        "tooltip_str = \"Click Here For More Info\"    \n",
        "\n",
        "### LOCATION SPECIFIC INFORMATION FOR MARKERS \n",
        "\n",
        "## PLAZA VIQUEZ \n",
        "\n",
        "# basic HTML for Plaza Viquez info\n",
        "viquez_htm = '''<strong><u>Plaza Viquez</u></strong><br>\n",
        "<i>Saturdays</i><br>\n",
        "05:00 - 13:00'''    \n",
        "\n",
        "# IFrame for Plaza Viquez popup info on marker\n",
        "viquez_popup_iframe = folium.IFrame(viquez_htm,\n",
        "                       width=250,\n",
        "                       height=75)\n",
        "\n",
        "# HTML for Plaza Viquez popup info on marker (based on IFrame)\n",
        "viquez_popup_htm = folium.Popup(viquez_popup_iframe,\n",
        "                     max_width=100)\n",
        "\n",
        "# create marker for Plaza Viquez\n",
        "viquez_marker = folium.Marker(\n",
        "    location=[9.92520232110662, -84.076688122587],\n",
        "    icon=folium.Icon(icon=\"leaf\"),\n",
        "    popup=viquez_popup_htm,\n",
        "    tooltip=tooltip_str)\n",
        "\n",
        "# add marker to feria_map\n",
        "viquez_marker.add_to(feria_map)\n",
        "\n",
        "## ESCAZU CENTRO  \n",
        "\n",
        "# basic HTML for Escazu Centro info\n",
        "escazu_htm = '''<strong><u>Escazu Centro</u></strong><br>\n",
        "<i>Saturdays</i><br>\n",
        "05:00 - 13:00'''    \n",
        "\n",
        "# IFrame for Escazu Centro popup info on marker\n",
        "escazu_popup_iframe = folium.IFrame(escazu_htm,\n",
        "                       width=250,\n",
        "                       height=75)\n",
        "\n",
        "# HTML for Escazu Centro popup info on marker (based on IFrame)\n",
        "escazu_popup_htm = folium.Popup(escazu_popup_iframe,\n",
        "                     max_width=100)\n",
        "\n",
        "# create marker for Escazu Centro\n",
        "escazu_marker = folium.Marker(\n",
        "    location=[9.9195377417559, -84.1400002652879],\n",
        "    icon=folium.Icon(icon=\"leaf\"),\n",
        "    popup=escazu_popup_htm,\n",
        "    tooltip=tooltip_str)\n",
        "\n",
        "# add marker to feria_map\n",
        "escazu_marker.add_to(feria_map)\n",
        "\n",
        "## SANTA ANA \n",
        "\n",
        "# basic HTML for Santa Ana info\n",
        "santana_htm = '''<strong><u>Santa Ana</u></strong><br>\n",
        "<i>Sundays</i><br>\n",
        "05:00 - 13:00'''    \n",
        "\n",
        "# IFrame for Santa Ana popup info on marker\n",
        "santana_popup_iframe = folium.IFrame(santana_htm,\n",
        "                       width=250,\n",
        "                       height=75)\n",
        "\n",
        "# HTML for Plaza Santa Ana popup info on marker (based on IFrame)\n",
        "santana_popup_htm = folium.Popup(santana_popup_iframe,\n",
        "                     max_width=100)\n",
        "\n",
        "# create marker for Santa Ana\n",
        "santana_marker = folium.Marker(\n",
        "    location=[9.93317209316712, -84.1810696624663],\n",
        "    icon=folium.Icon(icon=\"leaf\"),\n",
        "    popup=santana_popup_htm,\n",
        "    tooltip=tooltip_str)\n",
        "\n",
        "# add marker to feria_map\n",
        "santana_marker.add_to(feria_map)\n",
        "\n",
        "## FERIA VERDE ARANJUEZ \n",
        "\n",
        "# basic HTML for Feria Verde Aranjuez info\n",
        "aranjuez_htm = '''<strong><u>Feria Verde Aranjuez</u></strong><br>\n",
        "<i>Saturdays</i><br>\n",
        "07:00 - 12:00'''    \n",
        "\n",
        "# IFrame for Feria Verde Aranjuez popup info on marker\n",
        "aranjuez_popup_iframe = folium.IFrame(aranjuez_htm,\n",
        "                       width=250,\n",
        "                       height=75)\n",
        "\n",
        "# HTML for Feria Verde Aranjuez popup info on marker (based on IFrame)\n",
        "aranjuez_popup_htm = folium.Popup(aranjuez_popup_iframe,\n",
        "                     max_width=150)\n",
        "\n",
        "# create marker for Feria Verde Aranjuez\n",
        "aranjuez_marker = folium.Marker(\n",
        "    location=[9.94029048741197, -84.0681553317796],\n",
        "    icon=folium.Icon(icon=\"leaf\"),\n",
        "    popup=aranjuez_popup_htm,\n",
        "    tooltip=tooltip_str)\n",
        "\n",
        "# add marker to feria_map\n",
        "aranjuez_marker.add_to(feria_map)\n",
        "\n",
        "\n",
        "\n",
        "\n",
        "# display feria_map \n",
        "feria_map  "
      ],
      "execution_count": null,
      "outputs": [
        {
          "output_type": "execute_result",
          "data": {
            "text/plain": [
              "<folium.folium.Map at 0x7f725c7d72d0>"
            ],
            "text/html": [
              "<div style=\"width:100%;\"><div style=\"position:relative;width:100%;height:0;padding-bottom:60%;\"><span style=\"color:#565656\">Make this Notebook Trusted to load map: File -> Trust Notebook</span><iframe srcdoc=\"&lt;!DOCTYPE html&gt;\n",
              "&lt;html&gt;\n",
              "&lt;head&gt;\n",
              "    \n",
              "    &lt;meta http-equiv=&quot;content-type&quot; content=&quot;text/html; charset=UTF-8&quot; /&gt;\n",
              "    \n",
              "        &lt;script&gt;\n",
              "            L_NO_TOUCH = false;\n",
              "            L_DISABLE_3D = false;\n",
              "        &lt;/script&gt;\n",
              "    \n",
              "    &lt;style&gt;html, body {width: 100%;height: 100%;margin: 0;padding: 0;}&lt;/style&gt;\n",
              "    &lt;style&gt;#map {position:absolute;top:0;bottom:0;right:0;left:0;}&lt;/style&gt;\n",
              "    &lt;script src=&quot;https://cdn.jsdelivr.net/npm/leaflet@1.6.0/dist/leaflet.js&quot;&gt;&lt;/script&gt;\n",
              "    &lt;script src=&quot;https://code.jquery.com/jquery-1.12.4.min.js&quot;&gt;&lt;/script&gt;\n",
              "    &lt;script src=&quot;https://maxcdn.bootstrapcdn.com/bootstrap/3.2.0/js/bootstrap.min.js&quot;&gt;&lt;/script&gt;\n",
              "    &lt;script src=&quot;https://cdnjs.cloudflare.com/ajax/libs/Leaflet.awesome-markers/2.0.2/leaflet.awesome-markers.js&quot;&gt;&lt;/script&gt;\n",
              "    &lt;link rel=&quot;stylesheet&quot; href=&quot;https://cdn.jsdelivr.net/npm/leaflet@1.6.0/dist/leaflet.css&quot;/&gt;\n",
              "    &lt;link rel=&quot;stylesheet&quot; href=&quot;https://maxcdn.bootstrapcdn.com/bootstrap/3.2.0/css/bootstrap.min.css&quot;/&gt;\n",
              "    &lt;link rel=&quot;stylesheet&quot; href=&quot;https://maxcdn.bootstrapcdn.com/bootstrap/3.2.0/css/bootstrap-theme.min.css&quot;/&gt;\n",
              "    &lt;link rel=&quot;stylesheet&quot; href=&quot;https://maxcdn.bootstrapcdn.com/font-awesome/4.6.3/css/font-awesome.min.css&quot;/&gt;\n",
              "    &lt;link rel=&quot;stylesheet&quot; href=&quot;https://cdnjs.cloudflare.com/ajax/libs/Leaflet.awesome-markers/2.0.2/leaflet.awesome-markers.css&quot;/&gt;\n",
              "    &lt;link rel=&quot;stylesheet&quot; href=&quot;https://cdn.jsdelivr.net/gh/python-visualization/folium/folium/templates/leaflet.awesome.rotate.min.css&quot;/&gt;\n",
              "    \n",
              "            &lt;meta name=&quot;viewport&quot; content=&quot;width=device-width,\n",
              "                initial-scale=1.0, maximum-scale=1.0, user-scalable=no&quot; /&gt;\n",
              "            &lt;style&gt;\n",
              "                #map_d1cf5b9cc06d7745fce5ce78b30852a0 {\n",
              "                    position: relative;\n",
              "                    width: 100.0%;\n",
              "                    height: 100.0%;\n",
              "                    left: 0.0%;\n",
              "                    top: 0.0%;\n",
              "                }\n",
              "            &lt;/style&gt;\n",
              "        \n",
              "&lt;/head&gt;\n",
              "&lt;body&gt;\n",
              "    \n",
              "    \n",
              "            &lt;div class=&quot;folium-map&quot; id=&quot;map_d1cf5b9cc06d7745fce5ce78b30852a0&quot; &gt;&lt;/div&gt;\n",
              "        \n",
              "&lt;/body&gt;\n",
              "&lt;script&gt;\n",
              "    \n",
              "    \n",
              "            var map_d1cf5b9cc06d7745fce5ce78b30852a0 = L.map(\n",
              "                &quot;map_d1cf5b9cc06d7745fce5ce78b30852a0&quot;,\n",
              "                {\n",
              "                    center: [9.9355, -84.099],\n",
              "                    crs: L.CRS.EPSG3857,\n",
              "                    zoom: 13,\n",
              "                    zoomControl: true,\n",
              "                    preferCanvas: false,\n",
              "                }\n",
              "            );\n",
              "\n",
              "            \n",
              "\n",
              "        \n",
              "    \n",
              "            var tile_layer_6715a79aa549f86947d67ce0254762a3 = L.tileLayer(\n",
              "                &quot;https://{s}.tile.openstreetmap.org/{z}/{x}/{y}.png&quot;,\n",
              "                {&quot;attribution&quot;: &quot;Data by \\u0026copy; \\u003ca href=\\&quot;http://openstreetmap.org\\&quot;\\u003eOpenStreetMap\\u003c/a\\u003e, under \\u003ca href=\\&quot;http://www.openstreetmap.org/copyright\\&quot;\\u003eODbL\\u003c/a\\u003e.&quot;, &quot;detectRetina&quot;: false, &quot;maxNativeZoom&quot;: 18, &quot;maxZoom&quot;: 18, &quot;minZoom&quot;: 0, &quot;noWrap&quot;: false, &quot;opacity&quot;: 1, &quot;subdomains&quot;: &quot;abc&quot;, &quot;tms&quot;: false}\n",
              "            ).addTo(map_d1cf5b9cc06d7745fce5ce78b30852a0);\n",
              "        \n",
              "    \n",
              "            var marker_e774b3790a0fc084e5272f39005dfce8 = L.marker(\n",
              "                [9.92520232110662, -84.076688122587],\n",
              "                {}\n",
              "            ).addTo(map_d1cf5b9cc06d7745fce5ce78b30852a0);\n",
              "        \n",
              "    \n",
              "            var icon_f851854c80a980ebc8ed7f0d5215708f = L.AwesomeMarkers.icon(\n",
              "                {&quot;extraClasses&quot;: &quot;fa-rotate-0&quot;, &quot;icon&quot;: &quot;leaf&quot;, &quot;iconColor&quot;: &quot;white&quot;, &quot;markerColor&quot;: &quot;blue&quot;, &quot;prefix&quot;: &quot;glyphicon&quot;}\n",
              "            );\n",
              "            marker_e774b3790a0fc084e5272f39005dfce8.setIcon(icon_f851854c80a980ebc8ed7f0d5215708f);\n",
              "        \n",
              "    \n",
              "        var popup_d14fd8c02c4f8f0b714e2421f2541649 = L.popup({&quot;maxWidth&quot;: 100});\n",
              "\n",
              "        \n",
              "            var i_frame_3456cacc28afe4dd0dd24be634e87dc7 = $(`&lt;iframe src=&quot;data:text/html;charset=utf-8;base64,CiAgICA8c3Ryb25nPjx1PlBsYXphIFZpcXVlejwvdT48L3N0cm9uZz48YnI+CjxpPlNhdHVyZGF5czwvaT48YnI+CjA1OjAwIC0gMTM6MDA=&quot; width=&quot;250&quot; style=&quot;border:none !important;&quot; height=&quot;75&quot;&gt;&lt;/iframe&gt;`)[0];\n",
              "            popup_d14fd8c02c4f8f0b714e2421f2541649.setContent(i_frame_3456cacc28afe4dd0dd24be634e87dc7);\n",
              "        \n",
              "\n",
              "        marker_e774b3790a0fc084e5272f39005dfce8.bindPopup(popup_d14fd8c02c4f8f0b714e2421f2541649)\n",
              "        ;\n",
              "\n",
              "        \n",
              "    \n",
              "    \n",
              "            marker_e774b3790a0fc084e5272f39005dfce8.bindTooltip(\n",
              "                `&lt;div&gt;\n",
              "                     Click Here For More Info\n",
              "                 &lt;/div&gt;`,\n",
              "                {&quot;sticky&quot;: true}\n",
              "            );\n",
              "        \n",
              "    \n",
              "            var marker_fa8cd267972d475108b56a4fae647747 = L.marker(\n",
              "                [9.9195377417559, -84.1400002652879],\n",
              "                {}\n",
              "            ).addTo(map_d1cf5b9cc06d7745fce5ce78b30852a0);\n",
              "        \n",
              "    \n",
              "            var icon_3c0dc114552d92af773fdd2edf8d0aa8 = L.AwesomeMarkers.icon(\n",
              "                {&quot;extraClasses&quot;: &quot;fa-rotate-0&quot;, &quot;icon&quot;: &quot;leaf&quot;, &quot;iconColor&quot;: &quot;white&quot;, &quot;markerColor&quot;: &quot;blue&quot;, &quot;prefix&quot;: &quot;glyphicon&quot;}\n",
              "            );\n",
              "            marker_fa8cd267972d475108b56a4fae647747.setIcon(icon_3c0dc114552d92af773fdd2edf8d0aa8);\n",
              "        \n",
              "    \n",
              "        var popup_780b6defa246ccf9b0b180532ee29546 = L.popup({&quot;maxWidth&quot;: 100});\n",
              "\n",
              "        \n",
              "            var i_frame_e9282962d9443d4e0c4fef21acb0c44b = $(`&lt;iframe src=&quot;data:text/html;charset=utf-8;base64,CiAgICA8c3Ryb25nPjx1PkVzY2F6dSBDZW50cm88L3U+PC9zdHJvbmc+PGJyPgo8aT5TYXR1cmRheXM8L2k+PGJyPgowNTowMCAtIDEzOjAw&quot; width=&quot;250&quot; style=&quot;border:none !important;&quot; height=&quot;75&quot;&gt;&lt;/iframe&gt;`)[0];\n",
              "            popup_780b6defa246ccf9b0b180532ee29546.setContent(i_frame_e9282962d9443d4e0c4fef21acb0c44b);\n",
              "        \n",
              "\n",
              "        marker_fa8cd267972d475108b56a4fae647747.bindPopup(popup_780b6defa246ccf9b0b180532ee29546)\n",
              "        ;\n",
              "\n",
              "        \n",
              "    \n",
              "    \n",
              "            marker_fa8cd267972d475108b56a4fae647747.bindTooltip(\n",
              "                `&lt;div&gt;\n",
              "                     Click Here For More Info\n",
              "                 &lt;/div&gt;`,\n",
              "                {&quot;sticky&quot;: true}\n",
              "            );\n",
              "        \n",
              "    \n",
              "            var marker_2950c8899c49595a582e35af8172930d = L.marker(\n",
              "                [9.93317209316712, -84.1810696624663],\n",
              "                {}\n",
              "            ).addTo(map_d1cf5b9cc06d7745fce5ce78b30852a0);\n",
              "        \n",
              "    \n",
              "            var icon_c723ef7d15c0012548ef4abfa09f1f57 = L.AwesomeMarkers.icon(\n",
              "                {&quot;extraClasses&quot;: &quot;fa-rotate-0&quot;, &quot;icon&quot;: &quot;leaf&quot;, &quot;iconColor&quot;: &quot;white&quot;, &quot;markerColor&quot;: &quot;blue&quot;, &quot;prefix&quot;: &quot;glyphicon&quot;}\n",
              "            );\n",
              "            marker_2950c8899c49595a582e35af8172930d.setIcon(icon_c723ef7d15c0012548ef4abfa09f1f57);\n",
              "        \n",
              "    \n",
              "        var popup_ddfbda7472b58ffabbc2fb7fe39cb306 = L.popup({&quot;maxWidth&quot;: 100});\n",
              "\n",
              "        \n",
              "            var i_frame_bb4422f3ac5635d264371493be175779 = $(`&lt;iframe src=&quot;data:text/html;charset=utf-8;base64,CiAgICA8c3Ryb25nPjx1PlNhbnRhIEFuYTwvdT48L3N0cm9uZz48YnI+CjxpPlN1bmRheXM8L2k+PGJyPgowNTowMCAtIDEzOjAw&quot; width=&quot;250&quot; style=&quot;border:none !important;&quot; height=&quot;75&quot;&gt;&lt;/iframe&gt;`)[0];\n",
              "            popup_ddfbda7472b58ffabbc2fb7fe39cb306.setContent(i_frame_bb4422f3ac5635d264371493be175779);\n",
              "        \n",
              "\n",
              "        marker_2950c8899c49595a582e35af8172930d.bindPopup(popup_ddfbda7472b58ffabbc2fb7fe39cb306)\n",
              "        ;\n",
              "\n",
              "        \n",
              "    \n",
              "    \n",
              "            marker_2950c8899c49595a582e35af8172930d.bindTooltip(\n",
              "                `&lt;div&gt;\n",
              "                     Click Here For More Info\n",
              "                 &lt;/div&gt;`,\n",
              "                {&quot;sticky&quot;: true}\n",
              "            );\n",
              "        \n",
              "    \n",
              "            var marker_ac73668f5c7b96df12c114148538fdb8 = L.marker(\n",
              "                [9.94029048741197, -84.0681553317796],\n",
              "                {}\n",
              "            ).addTo(map_d1cf5b9cc06d7745fce5ce78b30852a0);\n",
              "        \n",
              "    \n",
              "            var icon_ddda702621c37469448a68f6acf5feca = L.AwesomeMarkers.icon(\n",
              "                {&quot;extraClasses&quot;: &quot;fa-rotate-0&quot;, &quot;icon&quot;: &quot;leaf&quot;, &quot;iconColor&quot;: &quot;white&quot;, &quot;markerColor&quot;: &quot;blue&quot;, &quot;prefix&quot;: &quot;glyphicon&quot;}\n",
              "            );\n",
              "            marker_ac73668f5c7b96df12c114148538fdb8.setIcon(icon_ddda702621c37469448a68f6acf5feca);\n",
              "        \n",
              "    \n",
              "        var popup_1022707cfdb4d10e8d894a077775bb1e = L.popup({&quot;maxWidth&quot;: 150});\n",
              "\n",
              "        \n",
              "            var i_frame_9cdb371e74d9dc2a4212585f2c92aa72 = $(`&lt;iframe src=&quot;data:text/html;charset=utf-8;base64,CiAgICA8c3Ryb25nPjx1PkZlcmlhIFZlcmRlIEFyYW5qdWV6PC91Pjwvc3Ryb25nPjxicj4KPGk+U2F0dXJkYXlzPC9pPjxicj4KMDc6MDAgLSAxMjowMA==&quot; width=&quot;250&quot; style=&quot;border:none !important;&quot; height=&quot;75&quot;&gt;&lt;/iframe&gt;`)[0];\n",
              "            popup_1022707cfdb4d10e8d894a077775bb1e.setContent(i_frame_9cdb371e74d9dc2a4212585f2c92aa72);\n",
              "        \n",
              "\n",
              "        marker_ac73668f5c7b96df12c114148538fdb8.bindPopup(popup_1022707cfdb4d10e8d894a077775bb1e)\n",
              "        ;\n",
              "\n",
              "        \n",
              "    \n",
              "    \n",
              "            marker_ac73668f5c7b96df12c114148538fdb8.bindTooltip(\n",
              "                `&lt;div&gt;\n",
              "                     Click Here For More Info\n",
              "                 &lt;/div&gt;`,\n",
              "                {&quot;sticky&quot;: true}\n",
              "            );\n",
              "        \n",
              "&lt;/script&gt;\n",
              "&lt;/html&gt;\" style=\"position:absolute;width:100%;height:100%;left:0;top:0;border:none !important;\" allowfullscreen webkitallowfullscreen mozallowfullscreen></iframe></div></div>"
            ]
          },
          "metadata": {},
          "execution_count": 6
        }
      ]
    },
    {
      "cell_type": "markdown",
      "source": [
        "####Inspecting the popup objects"
      ],
      "metadata": {
        "id": "Tb6_zSW46LTI"
      }
    },
    {
      "cell_type": "code",
      "source": [
        "print(santana_htm)"
      ],
      "metadata": {
        "id": "XX-MHMlb4zyY"
      },
      "execution_count": null,
      "outputs": []
    },
    {
      "cell_type": "code",
      "source": [
        "print(santana_popup_iframe)\n",
        "# dir(santana_popup_iframe)\n",
        "santana_popup_if_dict = santana_popup_iframe.to_dict()\n",
        "print(santana_popup_if_dict)"
      ],
      "metadata": {
        "id": "FcF85L7-5KV-"
      },
      "execution_count": null,
      "outputs": []
    },
    {
      "cell_type": "code",
      "source": [
        "print(santana_popup_htm)\n",
        "# dir(santana_popup_htm)\n",
        "santana_popup_htm_dict = santana_popup_htm.to_dict()\n",
        "print(santana_popup_htm_dict)"
      ],
      "metadata": {
        "id": "NT39p7Cx5AMp"
      },
      "execution_count": null,
      "outputs": []
    },
    {
      "cell_type": "markdown",
      "source": [
        "---"
      ],
      "metadata": {
        "id": "x4w9xW1B4j1V"
      }
    },
    {
      "cell_type": "markdown",
      "source": [
        "###Map with IFrame Markers from DataFrame - Ferias in San Jose, Costa Rica   "
      ],
      "metadata": {
        "id": "yYIGeFrm4TEg"
      }
    },
    {
      "cell_type": "markdown",
      "source": [
        "\n",
        "\n",
        "---\n",
        "\n"
      ],
      "metadata": {
        "id": "yFuaULKYOZQQ"
      }
    }
  ]
}